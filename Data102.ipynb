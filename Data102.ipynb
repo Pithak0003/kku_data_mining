{
  "nbformat": 4,
  "nbformat_minor": 0,
  "metadata": {
    "colab": {
      "name": "Data102.ipynb",
      "provenance": [],
      "private_outputs": true,
      "authorship_tag": "ABX9TyOJuXgVJRzzwMQXCvVQftmx",
      "include_colab_link": true
    },
    "kernelspec": {
      "name": "python3",
      "display_name": "Python 3"
    }
  },
  "cells": [
    {
      "cell_type": "markdown",
      "metadata": {
        "id": "view-in-github",
        "colab_type": "text"
      },
      "source": [
        "<a href=\"https://colab.research.google.com/github/Pithak0003/kku_data_mining/blob/master/Data102.ipynb\" target=\"_parent\"><img src=\"https://colab.research.google.com/assets/colab-badge.svg\" alt=\"Open In Colab\"/></a>"
      ]
    },
    {
      "cell_type": "code",
      "metadata": {
        "id": "oVxkZpkco17B",
        "colab_type": "code",
        "colab": {}
      },
      "source": [
        "import os"
      ],
      "execution_count": null,
      "outputs": []
    },
    {
      "cell_type": "code",
      "metadata": {
        "id": "QVETGlxwo1xI",
        "colab_type": "code",
        "colab": {}
      },
      "source": [
        "import pandas as pd"
      ],
      "execution_count": null,
      "outputs": []
    },
    {
      "cell_type": "code",
      "metadata": {
        "id": "u423YDqXkzRh",
        "colab_type": "code",
        "colab": {}
      },
      "source": [
        "from google.colab import drive\n",
        "drive.mount('/content/drive')"
      ],
      "execution_count": null,
      "outputs": []
    },
    {
      "cell_type": "code",
      "metadata": {
        "id": "b3mb8GC3mlW7",
        "colab_type": "code",
        "colab": {}
      },
      "source": [
        "base_path= '/content/drive/My Drive/DWDM_material'"
      ],
      "execution_count": null,
      "outputs": []
    },
    {
      "cell_type": "code",
      "metadata": {
        "id": "poBCdLAumlTd",
        "colab_type": "code",
        "colab": {}
      },
      "source": [
        "data = pd.read_csv(os.path.join(base_path,'test.csv'))"
      ],
      "execution_count": null,
      "outputs": []
    },
    {
      "cell_type": "code",
      "metadata": {
        "id": "-0oHs53fmlQj",
        "colab_type": "code",
        "colab": {}
      },
      "source": [
        "print(data)"
      ],
      "execution_count": null,
      "outputs": []
    },
    {
      "cell_type": "code",
      "metadata": {
        "id": "OsjDZCvamlD_",
        "colab_type": "code",
        "colab": {}
      },
      "source": [
        ""
      ],
      "execution_count": null,
      "outputs": []
    },
    {
      "cell_type": "markdown",
      "metadata": {
        "id": "Cfqbx6agsv4O",
        "colab_type": "text"
      },
      "source": [
        "## Box plot"
      ]
    },
    {
      "cell_type": "code",
      "metadata": {
        "id": "p9lhhZNSsz5P",
        "colab_type": "code",
        "colab": {}
      },
      "source": [
        "from matplotlib import pyplot as plt"
      ],
      "execution_count": null,
      "outputs": []
    },
    {
      "cell_type": "code",
      "metadata": {
        "id": "ZDyZATaRtDCw",
        "colab_type": "code",
        "colab": {}
      },
      "source": [
        "plt.boxplot(data['x'],vert= False)"
      ],
      "execution_count": null,
      "outputs": []
    },
    {
      "cell_type": "code",
      "metadata": {
        "id": "HBUIWq79tUIW",
        "colab_type": "code",
        "colab": {}
      },
      "source": [
        "plt.boxplot(data['x'],vert=False,whis=1.2)"
      ],
      "execution_count": null,
      "outputs": []
    },
    {
      "cell_type": "code",
      "metadata": {
        "id": "utnVMuMouC40",
        "colab_type": "code",
        "colab": {}
      },
      "source": [
        "\n",
        "\n",
        "oput=plt.boxplot(data['x'],vert=False,whis=1.2)"
      ],
      "execution_count": null,
      "outputs": []
    },
    {
      "cell_type": "code",
      "metadata": {
        "id": "1SodceR9uWu3",
        "colab_type": "code",
        "colab": {}
      },
      "source": [
        "oput['fliers'][0].get_xdata()"
      ],
      "execution_count": null,
      "outputs": []
    },
    {
      "cell_type": "code",
      "metadata": {
        "id": "XmZtSswSuos5",
        "colab_type": "code",
        "colab": {}
      },
      "source": [
        "oput['whiskers'][0].get_xdata()"
      ],
      "execution_count": null,
      "outputs": []
    },
    {
      "cell_type": "code",
      "metadata": {
        "id": "xBRjuDMZveee",
        "colab_type": "code",
        "colab": {}
      },
      "source": [
        "\n",
        "oput['whiskers'][1].get_xdata()"
      ],
      "execution_count": null,
      "outputs": []
    },
    {
      "cell_type": "code",
      "metadata": {
        "id": "Jhad7qJJvwvP",
        "colab_type": "code",
        "colab": {}
      },
      "source": [
        "plt.scatter(data['x'],data['y'],s=data['y'],c='m',marker='x',alpha=0.4)\n",
        "plt.scatter([44,42,50],[15,14,80],s=250,alpha=0.6)"
      ],
      "execution_count": null,
      "outputs": []
    },
    {
      "cell_type": "code",
      "metadata": {
        "id": "3Wj6owApx_iS",
        "colab_type": "code",
        "colab": {}
      },
      "source": [
        ""
      ],
      "execution_count": null,
      "outputs": []
    },
    {
      "cell_type": "markdown",
      "metadata": {
        "id": "WQuCd5Rs1ZSl",
        "colab_type": "text"
      },
      "source": [
        "## HW4 วิธีวาดปีกเเละนอไดโนเสาร์"
      ]
    },
    {
      "cell_type": "code",
      "metadata": {
        "id": "VYf78goB1ltq",
        "colab_type": "code",
        "colab": {}
      },
      "source": [
        "\n",
        "plt.scatter(data['x'],data['y'],s=data['y'],c='m',marker='x',alpha=0.5)\n",
        "plt.scatter([30,29,30,30,30,30,78,80,82,84,86,88,90,92,90,90,90,90,90,90,90,90,90,90,90,90,90,90,90],[60,62,65,68,72,75,78,80,82,84,86,88,90,92,92,92,88,84,80,76,72,68,64,62,60,58,56,54,52],s=200,alpha=0.6)"
      ],
      "execution_count": null,
      "outputs": []
    },
    {
      "cell_type": "code",
      "metadata": {
        "id": "x5_eaGSkQ17o",
        "colab_type": "code",
        "colab": {}
      },
      "source": [
        "\n"
      ],
      "execution_count": null,
      "outputs": []
    },
    {
      "cell_type": "markdown",
      "metadata": {
        "id": "9-HoX2jkSoBV",
        "colab_type": "text"
      },
      "source": [
        "## 24/08/2563"
      ]
    },
    {
      "cell_type": "code",
      "metadata": {
        "id": "8chX_SrNQ2FT",
        "colab_type": "code",
        "colab": {}
      },
      "source": [
        "plt.plot(data['x'],data['y'],'ro-')\n",
        "plt.scatter(data['x'][0],data['y'][0],s=200,c='k')\n"
      ],
      "execution_count": null,
      "outputs": []
    },
    {
      "cell_type": "markdown",
      "metadata": {
        "id": "YAjLUruxSXRg",
        "colab_type": "text"
      },
      "source": [
        "วิธีหาจุดเเรกของการเริ่มวาดไดโน\n"
      ]
    },
    {
      "cell_type": "code",
      "metadata": {
        "id": "V9UPidlCRJ0J",
        "colab_type": "code",
        "colab": {}
      },
      "source": [
        "plt.plot(data['x'],data['y'],'r-')\n",
        "plt.scatter(data['x'],data['y'],s=range(10,len(data['x'])+10))\n"
      ],
      "execution_count": null,
      "outputs": []
    },
    {
      "cell_type": "markdown",
      "metadata": {
        "id": "s5CHrh-oV858",
        "colab_type": "text"
      },
      "source": [
        "วิธีเรียงลำดับจุดเเรกถึงจุดสุดท้าย ตั้งเเต่ขนาดจุดใหญ่ไปจุดเล็ก (ขนาดจุดจะเพิ่มทีละ 1 ) 10,11,12,13..... ไปเรื่อยๆ"
      ]
    },
    {
      "cell_type": "code",
      "metadata": {
        "id": "CPILnCA4V6rZ",
        "colab_type": "code",
        "colab": {}
      },
      "source": [
        ""
      ],
      "execution_count": null,
      "outputs": []
    },
    {
      "cell_type": "code",
      "metadata": {
        "id": "P3XQHmnNZbJr",
        "colab_type": "code",
        "colab": {}
      },
      "source": [
        "color_list = []"
      ],
      "execution_count": null,
      "outputs": []
    },
    {
      "cell_type": "markdown",
      "metadata": {
        "id": "13vQnzsOaJSO",
        "colab_type": "text"
      },
      "source": [
        "การสร้าง list ว่าง  (ใส่ [ ] )"
      ]
    },
    {
      "cell_type": "code",
      "metadata": {
        "id": "vuqnt5KiZazu",
        "colab_type": "code",
        "colab": {}
      },
      "source": [
        "color_list = []\n",
        "for i in range(len(data['x'])):\n",
        "    color_list.append([0.2,0.1,i/255,0.5])\n",
        "color_list"
      ],
      "execution_count": null,
      "outputs": []
    },
    {
      "cell_type": "markdown",
      "metadata": {
        "id": "kvfEk-TqbRyG",
        "colab_type": "text"
      },
      "source": [
        "List ที่กำหนดสีให้เเต่ละจุด"
      ]
    },
    {
      "cell_type": "code",
      "metadata": {
        "id": "MO4WhyeHaiww",
        "colab_type": "code",
        "colab": {}
      },
      "source": [
        "plt.scatter(data['x'],data['y'],s=250,c=color_list)"
      ],
      "execution_count": null,
      "outputs": []
    },
    {
      "cell_type": "markdown",
      "metadata": {
        "id": "nNMMUkfeby02",
        "colab_type": "text"
      },
      "source": [
        ""
      ]
    },
    {
      "cell_type": "markdown",
      "metadata": {
        "id": "dlPeY9GNb1v1",
        "colab_type": "text"
      },
      "source": [
        "การไล่ความเข้มของสี จุดเเรกถึงสุดท้าย"
      ]
    },
    {
      "cell_type": "markdown",
      "metadata": {
        "id": "csWMhnvveMgM",
        "colab_type": "text"
      },
      "source": [
        "## Bar chart"
      ]
    },
    {
      "cell_type": "code",
      "metadata": {
        "id": "uV5A7GmqbZ8M",
        "colab_type": "code",
        "colab": {}
      },
      "source": [
        "import matplotlib\n",
        "import matplotlib.pyplot as plt\n",
        "import numpy as np"
      ],
      "execution_count": null,
      "outputs": []
    },
    {
      "cell_type": "markdown",
      "metadata": {
        "id": "0CBvFDaYekdy",
        "colab_type": "text"
      },
      "source": [
        "การนำเข้าสิ่งที่จำเป็น"
      ]
    },
    {
      "cell_type": "code",
      "metadata": {
        "id": "k-AOPEjjbaZC",
        "colab_type": "code",
        "colab": {}
      },
      "source": [
        "labels = ['G1', 'G2', 'G3', 'G4', 'G5']\n",
        "men_means = [20, 34, 30, 35, 27]\n",
        "women_means = [25, 32, 34, 20, 25]\n"
      ],
      "execution_count": null,
      "outputs": []
    },
    {
      "cell_type": "code",
      "metadata": {
        "id": "bS87cNFTbaKz",
        "colab_type": "code",
        "colab": {}
      },
      "source": [
        "x = np.arange(len(labels))  # the label locations\n",
        "width = 0.35  # the width of the bars"
      ],
      "execution_count": null,
      "outputs": []
    },
    {
      "cell_type": "code",
      "metadata": {
        "id": "Jyhpzod3bZpc",
        "colab_type": "code",
        "colab": {}
      },
      "source": [
        "fig, ax = plt.subplots()\n",
        "rects1 = ax.bar(x - width/2, men_means, width, label='Men')\n",
        "rects2 = ax.bar(x + width/2, women_means, width, label='Women')\n",
        "\n",
        "#การตั้งชื่อเเกน\n",
        "ax.set_ylabel('scores')\n",
        "ax.set_xlabel('GGGGGG')\n",
        "\n",
        "#การตั้งชื่อตาราง\n",
        "ax.set_title('Scores by group and gender')\n",
        "\n",
        "ax.set_xticks(x)\n",
        "\n",
        "ax.set_xticklabels(labels);\n",
        "#การใส่เซมิโครอนคือบอกให้จบ ไม่ต้องปริ้นอะไร\n",
        "\n",
        "ax.legend()\n",
        "#การใส่ชือ่เเท่ง"
      ],
      "execution_count": null,
      "outputs": []
    },
    {
      "cell_type": "code",
      "metadata": {
        "id": "wkyHxILCfir0",
        "colab_type": "code",
        "colab": {}
      },
      "source": [
        "plt.bar (x - width/2, men_means, width, label='Men')\n",
        "plt.bar(x + width/2, women_means, width, label='Women')\n",
        "plt.ylabel('Scores')\n",
        "plt.xlabel('pithakeiei')\n",
        "plt.title('Scores by group and gender')\n",
        "plt.legend();"
      ],
      "execution_count": null,
      "outputs": []
    },
    {
      "cell_type": "markdown",
      "metadata": {
        "id": "l-44II37i8Vi",
        "colab_type": "text"
      },
      "source": [
        "การสร้างกราฟอย่างง่าย\n"
      ]
    },
    {
      "cell_type": "markdown",
      "metadata": {
        "id": "GcpsQz4CkE6Q",
        "colab_type": "text"
      },
      "source": [
        "##Histogram"
      ]
    },
    {
      "cell_type": "code",
      "metadata": {
        "id": "x3x7uIaTfjZR",
        "colab_type": "code",
        "colab": {}
      },
      "source": [
        "x = [12,25,7,7,1,1,1,1,5,5,8,]"
      ],
      "execution_count": null,
      "outputs": []
    },
    {
      "cell_type": "code",
      "metadata": {
        "id": "iPvkz-mSfj49",
        "colab_type": "code",
        "colab": {}
      },
      "source": [
        "plt.hist(x)"
      ],
      "execution_count": null,
      "outputs": []
    },
    {
      "cell_type": "markdown",
      "metadata": {
        "id": "iHCFVxZwk8Lw",
        "colab_type": "text"
      },
      "source": [
        "คือกราฟความถี่\n"
      ]
    },
    {
      "cell_type": "code",
      "metadata": {
        "id": "Yrj__EQbfksu",
        "colab_type": "code",
        "colab": {}
      },
      "source": [
        ""
      ],
      "execution_count": null,
      "outputs": []
    },
    {
      "cell_type": "code",
      "metadata": {
        "id": "ugAGsWgSfkb-",
        "colab_type": "code",
        "colab": {}
      },
      "source": [
        ""
      ],
      "execution_count": null,
      "outputs": []
    },
    {
      "cell_type": "code",
      "metadata": {
        "id": "l0h1dWyUfjrj",
        "colab_type": "code",
        "colab": {}
      },
      "source": [
        ""
      ],
      "execution_count": null,
      "outputs": []
    },
    {
      "cell_type": "code",
      "metadata": {
        "id": "0k5c1KMufjJ-",
        "colab_type": "code",
        "colab": {}
      },
      "source": [
        ""
      ],
      "execution_count": null,
      "outputs": []
    },
    {
      "cell_type": "code",
      "metadata": {
        "id": "EcwgQCDgfiar",
        "colab_type": "code",
        "colab": {}
      },
      "source": [
        ""
      ],
      "execution_count": null,
      "outputs": []
    }
  ]
}