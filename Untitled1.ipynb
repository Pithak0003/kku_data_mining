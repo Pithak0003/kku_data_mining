{
  "nbformat": 4,
  "nbformat_minor": 0,
  "metadata": {
    "colab": {
      "name": "Untitled1.ipynb",
      "provenance": [],
      "private_outputs": true,
      "authorship_tag": "ABX9TyOVFPYaTW0RuLhrpG/seAnZ",
      "include_colab_link": true
    },
    "kernelspec": {
      "name": "python3",
      "display_name": "Python 3"
    }
  },
  "cells": [
    {
      "cell_type": "markdown",
      "metadata": {
        "id": "view-in-github",
        "colab_type": "text"
      },
      "source": [
        "<a href=\"https://colab.research.google.com/github/Pithak0003/kku_data_mining/blob/master/Untitled1.ipynb\" target=\"_parent\"><img src=\"https://colab.research.google.com/assets/colab-badge.svg\" alt=\"Open In Colab\"/></a>"
      ]
    },
    {
      "cell_type": "code",
      "metadata": {
        "id": "4XfIkgm0GL1n"
      },
      "source": [
        "import pandas as pd"
      ],
      "execution_count": null,
      "outputs": []
    },
    {
      "cell_type": "code",
      "metadata": {
        "id": "aJnM002wGNg1"
      },
      "source": [
        "from google.colab import drive\n",
        "drive.mount('/content/drive')"
      ],
      "execution_count": null,
      "outputs": []
    },
    {
      "cell_type": "code",
      "metadata": {
        "id": "EefdbCAcGNbe"
      },
      "source": [
        "path = '/content/drive/My Drive/DWDM_material'"
      ],
      "execution_count": null,
      "outputs": []
    },
    {
      "cell_type": "code",
      "metadata": {
        "id": "64gqGMgBGNUi"
      },
      "source": [
        "import os\n",
        "data = pd.read_csv(os.path.join(path,'reduced_marketbasket.csv'),encoding='latin1')\n",
        "data"
      ],
      "execution_count": null,
      "outputs": []
    },
    {
      "cell_type": "code",
      "metadata": {
        "id": "Fsr-BYOaGNNs"
      },
      "source": [
        "Sum_Quantity = data.groupby('Country').sum().sort_values('Quantity',ascending=False)\n",
        "Sum_Quantity"
      ],
      "execution_count": null,
      "outputs": []
    },
    {
      "cell_type": "code",
      "metadata": {
        "id": "ydCkdEbpGNGn"
      },
      "source": [
        "Dekub = data.groupby('InvoiceNo')['StockCode'].apply(list)\n",
        "Dekub"
      ],
      "execution_count": null,
      "outputs": []
    },
    {
      "cell_type": "code",
      "metadata": {
        "id": "D9YmqEjSGM7J"
      },
      "source": [
        "!pip install apyori"
      ],
      "execution_count": null,
      "outputs": []
    },
    {
      "cell_type": "code",
      "metadata": {
        "id": "RKCatlwMGjUB"
      },
      "source": [
        "from apyori import apriori"
      ],
      "execution_count": null,
      "outputs": []
    },
    {
      "cell_type": "code",
      "metadata": {
        "id": "zO6ke57uGkC-"
      },
      "source": [
        "list(apriori(Dekub, min_support = 0.02, min_confidenc = 0.1))"
      ],
      "execution_count": null,
      "outputs": []
    },
    {
      "cell_type": "code",
      "metadata": {
        "id": "IXVdiaIyGj61"
      },
      "source": [
        ""
      ],
      "execution_count": null,
      "outputs": []
    },
    {
      "cell_type": "markdown",
      "metadata": {
        "id": "1eKleXLAKUmK"
      },
      "source": [
        "## Quiz หา K-itemset ที่มีความน่าสนใจ (โดยพิจารณาลูกค้าเป็นรายคน)พร้อมทั้งอธิบายว่าสนใจยังไง\n"
      ]
    },
    {
      "cell_type": "markdown",
      "metadata": {
        "id": "y_GQQoPELSPc"
      },
      "source": [
        "##ใช่เป็นเเนวทางการทำงานคู่ได้ & ขอสอบประมาณนี้\n",
        "\n"
      ]
    },
    {
      "cell_type": "code",
      "metadata": {
        "id": "Mj9R6FKcH2_l"
      },
      "source": [
        "Deja = data.groupby('CustomerID')['StockCode'].apply(list)\n",
        "Deja"
      ],
      "execution_count": null,
      "outputs": []
    },
    {
      "cell_type": "code",
      "metadata": {
        "id": "d4WJyew7H2xk"
      },
      "source": [
        "list(apriori(Deja, min_support = 0.07, min_confidenc = 0.1))"
      ],
      "execution_count": null,
      "outputs": []
    },
    {
      "cell_type": "code",
      "metadata": {
        "id": "IiYJRvXiPYqF"
      },
      "source": [
        "list(apriori(Deja, min_support = 0.07, min_confidenc = 0.1))"
      ],
      "execution_count": null,
      "outputs": []
    },
    {
      "cell_type": "code",
      "metadata": {
        "id": "4TGzE01WPbFi"
      },
      "source": [
        "### k- = itemset ({'22697', '22699'}) น่าสนใจ \n",
        "###จากการดูค่า confidence จะเห็นได้ว่า ลูกค้าจะซื้อ สินค้ารหัส 22697 ก่อนค่อยซื้อสินค้ารหัส 22699 ถึง 83% \n",
        "###เเละ ซื้อ สินค้ารหัส 22699 ก่อนสินค้ารหัส 22697 เเค่ 75%\n",
        "### ดังนั้น หากอยากจัดโปรโมชั่นควร จับคู่สินค้านี้"
      ],
      "execution_count": null,
      "outputs": []
    }
  ]
}