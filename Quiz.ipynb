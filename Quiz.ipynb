{
  "nbformat": 4,
  "nbformat_minor": 0,
  "metadata": {
    "colab": {
      "name": "Quiz",
      "private_outputs": true,
      "provenance": [],
      "authorship_tag": "ABX9TyNU2o/W8aGFuoJgy9ch84Dp",
      "include_colab_link": true
    },
    "kernelspec": {
      "name": "python3",
      "display_name": "Python 3"
    }
  },
  "cells": [
    {
      "cell_type": "markdown",
      "metadata": {
        "id": "view-in-github",
        "colab_type": "text"
      },
      "source": [
        "<a href=\"https://colab.research.google.com/github/Pithak0003/kku_data_mining/blob/master/Quiz.ipynb\" target=\"_parent\"><img src=\"https://colab.research.google.com/assets/colab-badge.svg\" alt=\"Open In Colab\"/></a>"
      ]
    },
    {
      "cell_type": "markdown",
      "metadata": {
        "id": "b_iYgfkYg9A3"
      },
      "source": [
        "##HW\n",
        "เขียน function เรียงลำดับค่าใน list_EX = [-4, -1, -9, 8, 11] จากค่ามากที่สุดไปน้อยที่สุด โดยไม่ใช้ function ของ python (sort())"
      ]
    },
    {
      "cell_type": "code",
      "metadata": {
        "id": "uBlLGaPegOPp"
      },
      "source": [
        "list_EX = [-4, -1, -9, 8, 11]\n",
        "size_list_EX = len(list_EX)\n",
        "sizeL = size_list_EX - 1 \n",
        "for box in range(size_list_EX) :\n",
        "    for i in range(sizeL) :\n",
        "      if list_EX[i] < list_EX[i+1] :\n",
        "          temp = list_EX[i] \n",
        "          list_EX[i] = list_EX[i+1]\n",
        "          list_EX[i+1] = temp\n",
        "print(list_EX)"
      ],
      "execution_count": null,
      "outputs": []
    },
    {
      "cell_type": "code",
      "metadata": {
        "id": "XAIKf1kLg6ia"
      },
      "source": [
        ""
      ],
      "execution_count": null,
      "outputs": []
    },
    {
      "cell_type": "markdown",
      "metadata": {
        "id": "Q2F08egjhHZq"
      },
      "source": [
        "##HW วาด ปีก เเละ นอ ไดโดนเสาร์\n",
        "\n"
      ]
    },
    {
      "cell_type": "code",
      "metadata": {
        "id": "gkUrYjK4g6bx"
      },
      "source": [
        "plt.scatter(data['x'],data['y'],s=[data['y']],c='m',marker='*',alpha=0.4)\n",
        "plt.scatter([44,42,50],[15,14,80],s=250,alpha=0.6)\n",
        "plt.scatter([75,76,77,78,79,80,81,82,83,84,85,86,87,88,89,90,90,90,90,90,90,90,90,90,90,90,90,90,90,89.8,89.5,89.4,89.3,89.2,89.1,89,88.9,88.8,88.7,88.6,88.5,88.4,88.3,88.2,88.1,88,87.9,87.8,87.7,87.6,87.5,87.4,87.3,87.2,87.1,87,86.9,86.8,86.7,30,29.9,29.8,29.7,29.6,29.5,29.4,29.3,29.2,29.1,29,28.9,28.8,28.7,28.6,28.5,28.4,28.3,28.2,28.1,28,27.9,27.8,27.7,27.6,27.5,27.5,27.6,27.7,27.8,27.9]\n",
        "            ,[80,81,82,83,84,85,86,87,88,89,90,91,92,93,94,95,95,93,92,91,90,89,88,87,86,85,84,83,82,81,80,79,78,77,76,75,74,73,72,71,70,69,68,67,66,65,64,63,62,61,60,59,58,57,56,55,54,53,52,62,63,64,65,66,67,68,69,70,71,72,73,74,75,76,77,78,79,80,81,82,83,84,85,86,87,88,89,90,91,92])"
      ],
      "execution_count": null,
      "outputs": []
    },
    {
      "cell_type": "code",
      "metadata": {
        "id": "gsZodzKFg6X-"
      },
      "source": [
        ""
      ],
      "execution_count": null,
      "outputs": []
    },
    {
      "cell_type": "markdown",
      "metadata": {
        "id": "Bu-KzGdWhmtc"
      },
      "source": [
        "##\n",
        "HW6\n",
        "สร้าง distance metrix (Euclidean) ของ np2 โดยสร้าง Function สำหรับคำนวณ Euclidean Distance def Euclidean(data1,data2):\n",
        "\n",
        "#process\n",
        "return dist "
      ]
    },
    {
      "cell_type": "code",
      "metadata": {
        "id": "tZZePY0ug6Vw"
      },
      "source": [
        "def Manhattan(data1,data2):\n",
        "    distX = abs(data1[0]-data2[0])\n",
        "    distY = abs(data1[1]-data2[1])\n",
        "    return distX+distY"
      ],
      "execution_count": null,
      "outputs": []
    },
    {
      "cell_type": "code",
      "metadata": {
        "id": "B3z5h9erg6SC"
      },
      "source": [
        "Manhattan(np2[0,:],np2[1,:])"
      ],
      "execution_count": null,
      "outputs": []
    },
    {
      "cell_type": "code",
      "metadata": {
        "id": "Y2dKiPuxg6Pn"
      },
      "source": [
        "dist_mat = np.zeros((4,4))\n",
        "dist_mat"
      ],
      "execution_count": null,
      "outputs": []
    },
    {
      "cell_type": "code",
      "metadata": {
        "id": "zi7pb2aig6MY"
      },
      "source": [
        "array([[0., 0., 0., 0.],\n",
        "       [0., 0., 0., 0.],\n",
        "       [0., 0., 0., 0.],\n",
        "       [0., 0., 0., 0.]])"
      ],
      "execution_count": null,
      "outputs": []
    },
    {
      "cell_type": "code",
      "metadata": {
        "id": "zh1mQ0xdg6K2"
      },
      "source": [
        "np2.shape"
      ],
      "execution_count": null,
      "outputs": []
    },
    {
      "cell_type": "code",
      "metadata": {
        "id": "s9GBYfMQg6Gq"
      },
      "source": [
        ""
      ],
      "execution_count": null,
      "outputs": []
    },
    {
      "cell_type": "markdown",
      "metadata": {
        "id": "o8LxZN04iPXr"
      },
      "source": [
        "##\n",
        "HW7 calculate distance matrix of data_pd using mrth_dist()\n",
        "Categorical feature distance method#2"
      ]
    },
    {
      "cell_type": "code",
      "metadata": {
        "id": "IsfACr-qg6EW"
      },
      "source": [
        "data_pd_binary = pd.get_dummies(data_pd)\n",
        "data_pd_binary"
      ],
      "execution_count": null,
      "outputs": []
    },
    {
      "cell_type": "code",
      "metadata": {
        "id": "k7RUbnVUg6BI"
      },
      "source": [
        "def binary_sym_dist(data1,data2):\n",
        "    rs = 0\n",
        "    q = 0\n",
        "    \n",
        "    t = 0\n",
        "    for i in range(len(data1)):\n",
        "        if data1[i] == data2[i]:\n",
        "            if data1[i] == 1:\n",
        "                q = q + 1\n",
        "            else:\n",
        "                t = t + 1\n",
        "        if data1[i] != data2[i]:\n",
        "            rs = rs + 1\n",
        "\n",
        "    return (rs)/(q+rs+t)"
      ],
      "execution_count": null,
      "outputs": []
    },
    {
      "cell_type": "code",
      "metadata": {
        "id": "UJWw21uJg5-Q"
      },
      "source": [
        "binary_sym_dist(list(data_pd_binary.iloc[0,:]),list(data_pd_binary.iloc[1,:]))"
      ],
      "execution_count": null,
      "outputs": []
    },
    {
      "cell_type": "code",
      "metadata": {
        "id": "x6d4gv-5iZiF"
      },
      "source": [
        ""
      ],
      "execution_count": null,
      "outputs": []
    },
    {
      "cell_type": "markdown",
      "metadata": {
        "id": "L0HMfN_gkmSU"
      },
      "source": [
        "##Ex ให้หาว่าเเต่ละประเทศ ขายสินค้ารวมกันทั้งหมดได้ประเทศละกี่ชิ้น"
      ]
    },
    {
      "cell_type": "code",
      "metadata": {
        "id": "dKtHnOwniZgA"
      },
      "source": [
        "import pandas as pd"
      ],
      "execution_count": null,
      "outputs": []
    },
    {
      "cell_type": "code",
      "metadata": {
        "id": "iWTu3Eo-iZeK"
      },
      "source": [
        "from google.colab import drive\n",
        "drive.mount('/content/drive')\n"
      ],
      "execution_count": null,
      "outputs": []
    },
    {
      "cell_type": "code",
      "metadata": {
        "id": "FsWQXWoAiZZc"
      },
      "source": [
        "path = '/content/drive/My Drive/DWDM_material'"
      ],
      "execution_count": null,
      "outputs": []
    },
    {
      "cell_type": "code",
      "metadata": {
        "id": "LGl4EIGFiZXE"
      },
      "source": [
        "import os\n",
        "data = pd.read_csv(os.path.join(path,'reduced_marketbasket.csv'),encoding='latin1')\n",
        "data"
      ],
      "execution_count": null,
      "outputs": []
    },
    {
      "cell_type": "code",
      "metadata": {
        "id": "GeyujNTFiZVR"
      },
      "source": [
        "Sum_Quantity = data.groupby('Country').sum().sort_values('Quantity',ascending=False)\n",
        "Sum_Quantity"
      ],
      "execution_count": null,
      "outputs": []
    },
    {
      "cell_type": "code",
      "metadata": {
        "id": "i28NxrUQiZRW"
      },
      "source": [
        ""
      ],
      "execution_count": null,
      "outputs": []
    },
    {
      "cell_type": "markdown",
      "metadata": {
        "id": "guRLVzKYk_c3"
      },
      "source": [
        "##Quiz k-itemset ที่มีความน่าสนใจ(โดยพิจารณาลูกค้าเป็นรายคน)พร้อมทั้งอธิบายว่าน่าสนใจยังไง"
      ]
    },
    {
      "cell_type": "markdown",
      "metadata": {
        "id": "qzw1oGTflDmP"
      },
      "source": [
        "k- = itemset ({'22697', '22699'}) น่าสนใจ\n",
        "จากการดูค่า confidence จะเห็นได้ว่า ลูกค้าจะซื้อ สินค้ารหัส 22697 ก่อนค่อยซื้อสินค้ารหัส 22699 ถึง 83%\n",
        "เเละ ซื้อ สินค้ารหัส 22699 ก่อนสินค้ารหัส 22697 เเค่ 75%\n",
        "ดังนั้น หากอยากจัดโปรโมชั่นควร จับคู่สินค้านี้"
      ]
    },
    {
      "cell_type": "code",
      "metadata": {
        "id": "6ngHAvuwiZOY"
      },
      "source": [
        ""
      ],
      "execution_count": null,
      "outputs": []
    },
    {
      "cell_type": "code",
      "metadata": {
        "id": "g-44bA-liZEB"
      },
      "source": [
        ""
      ],
      "execution_count": null,
      "outputs": []
    },
    {
      "cell_type": "code",
      "metadata": {
        "id": "qUj3eFDiiZBN"
      },
      "source": [
        ""
      ],
      "execution_count": null,
      "outputs": []
    }
  ]
}