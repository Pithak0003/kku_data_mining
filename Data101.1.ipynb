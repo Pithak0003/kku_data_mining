{
  "nbformat": 4,
  "nbformat_minor": 0,
  "metadata": {
    "colab": {
      "name": "Data101",
      "provenance": [],
      "private_outputs": true,
      "authorship_tag": "ABX9TyPsPqp9U84dIWXsbk65yR1X",
      "include_colab_link": true
    },
    "kernelspec": {
      "name": "python3",
      "display_name": "Python 3"
    }
  },
  "cells": [
    {
      "cell_type": "markdown",
      "metadata": {
        "id": "view-in-github",
        "colab_type": "text"
      },
      "source": [
        "<a href=\"https://colab.research.google.com/github/Pithak0003/kku_data_mining/blob/master/Data101.1.ipynb\" target=\"_parent\"><img src=\"https://colab.research.google.com/assets/colab-badge.svg\" alt=\"Open In Colab\"/></a>"
      ]
    },
    {
      "cell_type": "code",
      "metadata": {
        "id": "SeyKWA7Wbymg",
        "colab_type": "code",
        "colab": {}
      },
      "source": [
        "pd.read_csv('test.csv')"
      ],
      "execution_count": null,
      "outputs": []
    },
    {
      "cell_type": "code",
      "metadata": {
        "id": "aEyXY2tlk-hy",
        "colab_type": "code",
        "colab": {}
      },
      "source": [
        "from google.colab import drive\n",
        "drive.mount('/content/drive')"
      ],
      "execution_count": null,
      "outputs": []
    },
    {
      "cell_type": "code",
      "metadata": {
        "id": "6vvLIxUXk-eY",
        "colab_type": "code",
        "colab": {}
      },
      "source": [
        "\n",
        "import os"
      ],
      "execution_count": null,
      "outputs": []
    },
    {
      "cell_type": "code",
      "metadata": {
        "id": "SWXXi-zhk-cl",
        "colab_type": "code",
        "colab": {}
      },
      "source": [
        "\n",
        "path = '/content/drive/My Drive/DWDM_material'"
      ],
      "execution_count": null,
      "outputs": []
    },
    {
      "cell_type": "code",
      "metadata": {
        "id": "V4RZCmXzk-Yv",
        "colab_type": "code",
        "colab": {}
      },
      "source": [
        "os.listdir(path)"
      ],
      "execution_count": null,
      "outputs": []
    },
    {
      "cell_type": "code",
      "metadata": {
        "id": "CORpVPYSk-XS",
        "colab_type": "code",
        "colab": {}
      },
      "source": [
        "import pandas as pd"
      ],
      "execution_count": null,
      "outputs": []
    },
    {
      "cell_type": "code",
      "metadata": {
        "id": "IwxvxTT7k-TU",
        "colab_type": "code",
        "colab": {}
      },
      "source": [
        "file_path = os.path.join(path,'test.csv')\n",
        "print(file_path)"
      ],
      "execution_count": null,
      "outputs": []
    },
    {
      "cell_type": "code",
      "metadata": {
        "id": "0SmjS5ULk-RG",
        "colab_type": "code",
        "colab": {}
      },
      "source": [
        "pd.read_csv(file_path).head()"
      ],
      "execution_count": null,
      "outputs": []
    },
    {
      "cell_type": "code",
      "metadata": {
        "id": "Z9nAOSlnk-OY",
        "colab_type": "code",
        "colab": {}
      },
      "source": [
        "table1 = pd.read_csv(file_path)"
      ],
      "execution_count": null,
      "outputs": []
    },
    {
      "cell_type": "code",
      "metadata": {
        "id": "Y3Dl-ugjk-CW",
        "colab_type": "code",
        "colab": {}
      },
      "source": [
        "table1"
      ],
      "execution_count": null,
      "outputs": []
    },
    {
      "cell_type": "code",
      "metadata": {
        "id": "PjxPg7i9lLmn",
        "colab_type": "code",
        "colab": {}
      },
      "source": [
        "table1.head()"
      ],
      "execution_count": null,
      "outputs": []
    },
    {
      "cell_type": "code",
      "metadata": {
        "id": "-NNGI_ixlL2A",
        "colab_type": "code",
        "colab": {}
      },
      "source": [
        "from matplotlib import pyplot as plt"
      ],
      "execution_count": null,
      "outputs": []
    },
    {
      "cell_type": "code",
      "metadata": {
        "id": "hblEdB04lMJA",
        "colab_type": "code",
        "colab": {}
      },
      "source": [
        "plt.scatter(table1['x'],table1['y'])"
      ],
      "execution_count": null,
      "outputs": []
    },
    {
      "cell_type": "code",
      "metadata": {
        "id": "xkIEZXYclMMj",
        "colab_type": "code",
        "colab": {}
      },
      "source": [
        "table1['x']"
      ],
      "execution_count": null,
      "outputs": []
    },
    {
      "cell_type": "code",
      "metadata": {
        "id": "RukkxJzDlL7j",
        "colab_type": "code",
        "colab": {}
      },
      "source": [
        "table1.x"
      ],
      "execution_count": null,
      "outputs": []
    },
    {
      "cell_type": "code",
      "metadata": {
        "id": "zg5i_i8MlL5a",
        "colab_type": "code",
        "colab": {}
      },
      "source": [
        "table1.describe()"
      ],
      "execution_count": null,
      "outputs": []
    },
    {
      "cell_type": "code",
      "metadata": {
        "id": "u6VVuArjlLbQ",
        "colab_type": "code",
        "colab": {}
      },
      "source": [
        "a = 1\n",
        "b = 3"
      ],
      "execution_count": null,
      "outputs": []
    },
    {
      "cell_type": "code",
      "metadata": {
        "id": "v4HCqo5MpyLD",
        "colab_type": "code",
        "colab": {}
      },
      "source": [
        "c=a+b"
      ],
      "execution_count": null,
      "outputs": []
    },
    {
      "cell_type": "code",
      "metadata": {
        "id": "0EFuOq_Rp12b",
        "colab_type": "code",
        "colab": {}
      },
      "source": [
        "c"
      ],
      "execution_count": null,
      "outputs": []
    },
    {
      "cell_type": "code",
      "metadata": {
        "id": "3etDczNEp2YP",
        "colab_type": "code",
        "colab": {}
      },
      "source": [
        "name = 'a'"
      ],
      "execution_count": null,
      "outputs": []
    },
    {
      "cell_type": "code",
      "metadata": {
        "id": "fI6zURGPqMWe",
        "colab_type": "code",
        "colab": {}
      },
      "source": [
        "name"
      ],
      "execution_count": null,
      "outputs": []
    },
    {
      "cell_type": "code",
      "metadata": {
        "id": "nR1sXi3fqNFG",
        "colab_type": "code",
        "colab": {}
      },
      "source": [
        "one='1'"
      ],
      "execution_count": null,
      "outputs": []
    },
    {
      "cell_type": "code",
      "metadata": {
        "id": "0eTdxBLhqTTs",
        "colab_type": "code",
        "colab": {}
      },
      "source": [
        "a+one"
      ],
      "execution_count": null,
      "outputs": []
    },
    {
      "cell_type": "code",
      "metadata": {
        "id": "yCqIE7Xep-pw",
        "colab_type": "code",
        "colab": {}
      },
      "source": [
        ""
      ],
      "execution_count": null,
      "outputs": []
    },
    {
      "cell_type": "markdown",
      "metadata": {
        "id": "fDcMR012p_YQ",
        "colab_type": "text"
      },
      "source": [
        "#list"
      ]
    },
    {
      "cell_type": "code",
      "metadata": {
        "id": "PnT83FbDqzfs",
        "colab_type": "code",
        "colab": {}
      },
      "source": [
        "list_a = [1,3,7,19]"
      ],
      "execution_count": null,
      "outputs": []
    },
    {
      "cell_type": "markdown",
      "metadata": {
        "id": "K3YaUTTBqDUP",
        "colab_type": "text"
      },
      "source": [
        "#index(ing)"
      ]
    },
    {
      "cell_type": "code",
      "metadata": {
        "id": "v3WkoSqkRTm1",
        "colab_type": "code",
        "colab": {}
      },
      "source": [
        "list_a[0]"
      ],
      "execution_count": null,
      "outputs": []
    },
    {
      "cell_type": "code",
      "metadata": {
        "id": "MuGuJgVERXiV",
        "colab_type": "code",
        "colab": {}
      },
      "source": [
        "list_a[-1]"
      ],
      "execution_count": null,
      "outputs": []
    },
    {
      "cell_type": "code",
      "metadata": {
        "id": "evQtgdXXRcl5",
        "colab_type": "code",
        "colab": {}
      },
      "source": [
        "len(list_a)"
      ],
      "execution_count": null,
      "outputs": []
    },
    {
      "cell_type": "code",
      "metadata": {
        "id": "zMbC5G40Rzu1",
        "colab_type": "code",
        "colab": {}
      },
      "source": [
        "list_b = [1,4,'thai', ['a',3,9]]"
      ],
      "execution_count": null,
      "outputs": []
    },
    {
      "cell_type": "code",
      "metadata": {
        "id": "tT65Ce_jRz42",
        "colab_type": "code",
        "colab": {}
      },
      "source": [
        "list_b[-1][0]"
      ],
      "execution_count": null,
      "outputs": []
    },
    {
      "cell_type": "code",
      "metadata": {
        "id": "Kum4CCWBR0L_",
        "colab_type": "code",
        "colab": {}
      },
      "source": [
        "list_c=list_a + list_b\n",
        "list_c"
      ],
      "execution_count": null,
      "outputs": []
    },
    {
      "cell_type": "code",
      "metadata": {
        "id": "vyGo7gPLR0d6",
        "colab_type": "code",
        "colab": {}
      },
      "source": [
        ""
      ],
      "execution_count": null,
      "outputs": []
    },
    {
      "cell_type": "markdown",
      "metadata": {
        "id": "AX_EndKbqVXf",
        "colab_type": "text"
      },
      "source": [
        "create empty list 1"
      ]
    },
    {
      "cell_type": "code",
      "metadata": {
        "id": "zWGuCh-ER0vM",
        "colab_type": "code",
        "colab": {}
      },
      "source": [
        ""
      ],
      "execution_count": null,
      "outputs": []
    },
    {
      "cell_type": "code",
      "metadata": {
        "id": "o7PoPAnYR0_G",
        "colab_type": "code",
        "colab": {}
      },
      "source": [
        ""
      ],
      "execution_count": null,
      "outputs": []
    },
    {
      "cell_type": "code",
      "metadata": {
        "id": "pPjUpDSvR0nC",
        "colab_type": "code",
        "colab": {}
      },
      "source": [
        ""
      ],
      "execution_count": null,
      "outputs": []
    },
    {
      "cell_type": "code",
      "metadata": {
        "id": "OKsr1ZJ-R0kk",
        "colab_type": "code",
        "colab": {}
      },
      "source": [
        ""
      ],
      "execution_count": null,
      "outputs": []
    },
    {
      "cell_type": "code",
      "metadata": {
        "id": "Qj1nsBdWR0av",
        "colab_type": "code",
        "colab": {}
      },
      "source": [
        ""
      ],
      "execution_count": null,
      "outputs": []
    },
    {
      "cell_type": "code",
      "metadata": {
        "id": "nU8E-ElvR0Ch",
        "colab_type": "code",
        "colab": {}
      },
      "source": [
        ""
      ],
      "execution_count": null,
      "outputs": []
    },
    {
      "cell_type": "code",
      "metadata": {
        "id": "hEJF7RMWR0AQ",
        "colab_type": "code",
        "colab": {}
      },
      "source": [
        ""
      ],
      "execution_count": null,
      "outputs": []
    },
    {
      "cell_type": "code",
      "metadata": {
        "id": "Kuckcr0iRz0U",
        "colab_type": "code",
        "colab": {}
      },
      "source": [
        "f'list_c = {list_c}'"
      ],
      "execution_count": null,
      "outputs": []
    },
    {
      "cell_type": "code",
      "metadata": {
        "id": "dZwJfVCoTrN3",
        "colab_type": "code",
        "colab": {}
      },
      "source": [
        ""
      ],
      "execution_count": null,
      "outputs": []
    },
    {
      "cell_type": "code",
      "metadata": {
        "id": "YRI5feyuRzfv",
        "colab_type": "code",
        "colab": {}
      },
      "source": [
        "print(st_x)\n",
        "st_x.split()"
      ],
      "execution_count": null,
      "outputs": []
    },
    {
      "cell_type": "code",
      "metadata": {
        "id": "13JGh6suSB1a",
        "colab_type": "code",
        "colab": {}
      },
      "source": [
        ""
      ],
      "execution_count": null,
      "outputs": []
    },
    {
      "cell_type": "code",
      "metadata": {
        "id": "6-CxYK8nT3MX",
        "colab_type": "code",
        "colab": {}
      },
      "source": [
        ""
      ],
      "execution_count": null,
      "outputs": []
    },
    {
      "cell_type": "code",
      "metadata": {
        "id": "j9bDfS3yT23c",
        "colab_type": "code",
        "colab": {}
      },
      "source": [
        "for i in [1,2,3,4 ] :\n",
        "    print(f'first line {i}')\n",
        "    print(f'second line {2*i}')"
      ],
      "execution_count": null,
      "outputs": []
    },
    {
      "cell_type": "code",
      "metadata": {
        "id": "JxPkfkteUBbq",
        "colab_type": "code",
        "colab": {}
      },
      "source": [
        "for i in [1,2,3,4] :\n",
        "    print ('HaHaHa')"
      ],
      "execution_count": null,
      "outputs": []
    },
    {
      "cell_type": "code",
      "metadata": {
        "id": "Yyfqyh1sViYl",
        "colab_type": "code",
        "colab": {}
      },
      "source": [
        "for x in list_a : \n",
        "    print(x)"
      ],
      "execution_count": null,
      "outputs": []
    },
    {
      "cell_type": "code",
      "metadata": {
        "id": "DoSeM67_WEs6",
        "colab_type": "code",
        "colab": {}
      },
      "source": [
        "range(6)"
      ],
      "execution_count": null,
      "outputs": []
    },
    {
      "cell_type": "code",
      "metadata": {
        "id": "-vg1gxLxWeo-",
        "colab_type": "code",
        "colab": {}
      },
      "source": [
        "for i in range(6) :\n",
        "    print(i)"
      ],
      "execution_count": null,
      "outputs": []
    },
    {
      "cell_type": "code",
      "metadata": {
        "id": "cIBL8PTnWmi4",
        "colab_type": "code",
        "colab": {}
      },
      "source": [
        "for i in range(3):\n",
        "    print('start inner')\n",
        "    for j in range(3):\n",
        "        print(f'i={i}, j = {j} ixj = {i*j}')\n",
        "    print('end inner')"
      ],
      "execution_count": null,
      "outputs": []
    },
    {
      "cell_type": "markdown",
      "metadata": {
        "id": "2r9hVCeQZM24",
        "colab_type": "text"
      },
      "source": [
        " # If statement"
      ]
    },
    {
      "cell_type": "code",
      "metadata": {
        "id": "tLX2-Q57XfX0",
        "colab_type": "code",
        "colab": {}
      },
      "source": [
        "stringX = 'abcdfnojvsnvsdlkn'\n",
        "if len(stringX) > 6 :\n",
        "    print('stringX is longer than 6')"
      ],
      "execution_count": null,
      "outputs": []
    },
    {
      "cell_type": "code",
      "metadata": {
        "id": "fVjxRz95Z35j",
        "colab_type": "code",
        "colab": {}
      },
      "source": [
        ""
      ],
      "execution_count": null,
      "outputs": []
    },
    {
      "cell_type": "markdown",
      "metadata": {
        "id": "jOqnpj_bZ9yr",
        "colab_type": "text"
      },
      "source": [
        "พื้นฐานการเขียนโปรเกรมมีเเค่  ลูป if เเละ function"
      ]
    },
    {
      "cell_type": "code",
      "metadata": {
        "id": "4q0eL53maI21",
        "colab_type": "code",
        "colab": {}
      },
      "source": [
        "stringX = 'abcdfnojvsnvsdlkn'\n",
        "if len(stringX) > 100 :\n",
        "    print('stringX is longer than 6')\n",
        "else:\n",
        "    print('xxx')"
      ],
      "execution_count": null,
      "outputs": []
    },
    {
      "cell_type": "code",
      "metadata": {
        "id": "RQuH4XWgaZ51",
        "colab_type": "code",
        "colab": {}
      },
      "source": [
        "stringX = 'abcdfnojvsnvsdlkn'\n",
        "if len(stringX) < 10 :\n",
        "    print('stringX is longer than 6')\n",
        "elif len (stringX) == 17 :\n",
        "    print (stringX)\n",
        "else :\n",
        "    print('xxx')"
      ],
      "execution_count": null,
      "outputs": []
    },
    {
      "cell_type": "code",
      "metadata": {
        "id": "mRoK4EuabUz9",
        "colab_type": "code",
        "colab": {}
      },
      "source": [
        ""
      ],
      "execution_count": null,
      "outputs": []
    },
    {
      "cell_type": "markdown",
      "metadata": {
        "id": "8N1CQsR-b0_k",
        "colab_type": "text"
      },
      "source": [
        "### Exercise 1\n",
        "\n",
        "หาค่ามากที่สุดใน list_EX = [-4,-1,-9,8,11] โดยไม่ใช้ function max()"
      ]
    },
    {
      "cell_type": "code",
      "metadata": {
        "id": "S79227MrbyjO",
        "colab_type": "code",
        "colab": {}
      },
      "source": [
        " list_EX = [-4,-1,-9,8,11]\n",
        "max = -1000000000\n",
        "for i in list_EX:\n",
        "    if i > max : \n",
        "        max=i\n",
        "        print (f'now max is {max}')\n",
        "print(f'Answer is {max} is the max number of {list_EX}')"
      ],
      "execution_count": null,
      "outputs": []
    },
    {
      "cell_type": "code",
      "metadata": {
        "id": "oyRZ0uR-dBEn",
        "colab_type": "code",
        "colab": {}
      },
      "source": [
        ""
      ],
      "execution_count": null,
      "outputs": []
    },
    {
      "cell_type": "markdown",
      "metadata": {
        "id": "L2NgiJwyiaet",
        "colab_type": "text"
      },
      "source": [
        "## HW\n",
        "เรียงลำดับค่าใน list_EX = [-4,-1,-9,8,11] จากค่ามากที่สุดไปค่าน้อยที่สุด โดยไม่ใช้ function sort()"
      ]
    },
    {
      "cell_type": "code",
      "metadata": {
        "id": "HQSQgW1hj_6r",
        "colab_type": "code",
        "colab": {}
      },
      "source": [
        "list_EX = [-4, -1, -9, 8, 11]\n",
        "size_list_EX = len(list_EX)\n",
        "sizeL = size_list_EX - 1 \n",
        "for box in range(size_list_EX) :\n",
        "    for i in range(sizeL) :\n",
        "      if list_EX[i] < list_EX[i+1] :\n",
        "          temp = list_EX[i] \n",
        "          list_EX[i] = list_EX[i+1]\n",
        "          list_EX[i+1] = temp\n",
        "print(list_EX)"
      ],
      "execution_count": null,
      "outputs": []
    },
    {
      "cell_type": "markdown",
      "metadata": {
        "id": "IEwg0Kz0kB1h",
        "colab_type": "text"
      },
      "source": [
        "# function()"
      ]
    },
    {
      "cell_type": "code",
      "metadata": {
        "id": "sR_1YGOSj_42",
        "colab_type": "code",
        "colab": {}
      },
      "source": [
        "def find_max(in_list):\n",
        "    max = - 10000000\n",
        "    for i in in_list:\n",
        "        if i > max:\n",
        "            print(f' {i} > {max} UPDATE!,',end='')\n",
        "            max = i \n",
        "            print(f'now max is {max}')\n",
        "        else:\n",
        "            print(f'{i} < {max} NOT UPDATE!, now max is {max}')\n",
        "    print(f'the answer is {max} is the max number of {in_list}')\n",
        "\n"
      ],
      "execution_count": null,
      "outputs": []
    },
    {
      "cell_type": "code",
      "metadata": {
        "id": "xST7Vx3Aj_rv",
        "colab_type": "code",
        "colab": {}
      },
      "source": [
        "find_max([12,1666,912312,-2,77])"
      ],
      "execution_count": null,
      "outputs": []
    },
    {
      "cell_type": "code",
      "metadata": {
        "id": "fjFAAq5MoCSk",
        "colab_type": "code",
        "colab": {}
      },
      "source": [
        "def find_max(in_list):\n",
        "    max = - 10000000\n",
        "    for i in in_list:\n",
        "        if i > max:\n",
        "            print(f' {i} > {max} UPDATE!,',end='')\n",
        "            max = i \n",
        "            print(f'now max is {max}')\n",
        "        else:\n",
        "            print(f'{i} < {max} NOT UPDATE!, now max is {max}')\n",
        "    print(f'the answer is {max} is the max number of {in_list}')\n",
        "    return max"
      ],
      "execution_count": null,
      "outputs": []
    },
    {
      "cell_type": "code",
      "metadata": {
        "id": "i3LOXI5VohVZ",
        "colab_type": "code",
        "colab": {}
      },
      "source": [
        "a=find_max([12,1666,912312,-2,77])"
      ],
      "execution_count": null,
      "outputs": []
    },
    {
      "cell_type": "code",
      "metadata": {
        "id": "1jd0oHILohPF",
        "colab_type": "code",
        "colab": {}
      },
      "source": [
        "a"
      ],
      "execution_count": null,
      "outputs": []
    },
    {
      "cell_type": "code",
      "metadata": {
        "id": "QQTuCjrkpCGB",
        "colab_type": "code",
        "colab": {}
      },
      "source": [
        ""
      ],
      "execution_count": null,
      "outputs": []
    }
  ]
}