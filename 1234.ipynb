{
  "nbformat": 4,
  "nbformat_minor": 0,
  "metadata": {
    "colab": {
      "name": "1234",
      "provenance": [],
      "private_outputs": true,
      "authorship_tag": "ABX9TyPJ6jPRf0VVhCIgy3GvHsio",
      "include_colab_link": true
    },
    "kernelspec": {
      "name": "python3",
      "display_name": "Python 3"
    }
  },
  "cells": [
    {
      "cell_type": "markdown",
      "metadata": {
        "id": "view-in-github",
        "colab_type": "text"
      },
      "source": [
        "<a href=\"https://colab.research.google.com/github/Pithak0003/kku_data_mining/blob/master/1234.ipynb\" target=\"_parent\"><img src=\"https://colab.research.google.com/assets/colab-badge.svg\" alt=\"Open In Colab\"/></a>"
      ]
    },
    {
      "cell_type": "code",
      "metadata": {
        "id": "dZEK83VqNblE"
      },
      "source": [
        ""
      ],
      "execution_count": null,
      "outputs": []
    },
    {
      "cell_type": "code",
      "metadata": {
        "id": "FlPlwc7MOsg4"
      },
      "source": [
        "from google.colab import drive\n",
        "drive.mount('/content/drive')\n",
        "\n",
        "path = '/content/drive/My Drive/DWDM_material'"
      ],
      "execution_count": null,
      "outputs": []
    },
    {
      "cell_type": "code",
      "metadata": {
        "id": "Tcf2pYj5O22w"
      },
      "source": [
        "import os   \n",
        "import pandas as pd"
      ],
      "execution_count": null,
      "outputs": []
    },
    {
      "cell_type": "code",
      "metadata": {
        "id": "Lz-WnDfpPFOL"
      },
      "source": [
        "earthquake_type = os.path.join(path,'Japan-earthquakes-2001-2018.csv')\n",
        "magnitude_type = os.path.join(path,'EFG.csv')"
      ],
      "execution_count": null,
      "outputs": []
    },
    {
      "cell_type": "code",
      "metadata": {
        "id": "-X2dvmzhUGz7"
      },
      "source": [
        "magnitude_type = pd.read_csv (magnitude_type)\n",
        "magnitude_type"
      ],
      "execution_count": null,
      "outputs": []
    },
    {
      "cell_type": "code",
      "metadata": {
        "id": "CoC2KTV1jycB"
      },
      "source": [
        "magnitude_type.isnull().any()"
      ],
      "execution_count": null,
      "outputs": []
    },
    {
      "cell_type": "code",
      "metadata": {
        "id": "Dp7I-epEUaAl"
      },
      "source": [
        "earthquake_type = pd.read_csv (earthquake_type)\n",
        "earthquake_type"
      ],
      "execution_count": null,
      "outputs": []
    },
    {
      "cell_type": "code",
      "metadata": {
        "id": "WSZrIHbWW9Qj"
      },
      "source": [
        "earthquake_type.isnull().any()"
      ],
      "execution_count": null,
      "outputs": []
    },
    {
      "cell_type": "code",
      "metadata": {
        "id": "p2JlGM36idGD"
      },
      "source": [
        "mioo = earthquake_type[['gap']]\n",
        "mioo"
      ],
      "execution_count": null,
      "outputs": []
    },
    {
      "cell_type": "code",
      "metadata": {
        "id": "JYrVIs84iwn4"
      },
      "source": [
        "mioo.fillna(mioo.mean())"
      ],
      "execution_count": null,
      "outputs": []
    },
    {
      "cell_type": "code",
      "metadata": {
        "id": "H1qt-rNvfaKN"
      },
      "source": [
        "mioo = earthquake_type[['dmin']]\n",
        "mioo"
      ],
      "execution_count": null,
      "outputs": []
    },
    {
      "cell_type": "code",
      "metadata": {
        "id": "wwy_TEJnkNWG"
      },
      "source": [
        "mioo.fillna(mioo.mean())"
      ],
      "execution_count": null,
      "outputs": []
    },
    {
      "cell_type": "code",
      "metadata": {
        "id": "-ZcAeWVrkNmy"
      },
      "source": [
        "mioo = earthquake_type[['rms']]\n",
        "mioo"
      ],
      "execution_count": null,
      "outputs": []
    },
    {
      "cell_type": "code",
      "metadata": {
        "id": "Zi3RdM9BkNsm"
      },
      "source": [
        "mioo.fillna(mioo.mean())"
      ],
      "execution_count": null,
      "outputs": []
    },
    {
      "cell_type": "code",
      "metadata": {
        "id": "XfFofD-ZkNqj"
      },
      "source": [
        "mioo = earthquake_type[['dmin']]\n",
        "mioo"
      ],
      "execution_count": null,
      "outputs": []
    },
    {
      "cell_type": "code",
      "metadata": {
        "id": "Ej_tlt01kNbm"
      },
      "source": [
        "mioo.fillna(mioo.mean())"
      ],
      "execution_count": null,
      "outputs": []
    },
    {
      "cell_type": "code",
      "metadata": {
        "id": "-sm6fCSBkNZo"
      },
      "source": [
        "mioo = earthquake_type[['dmin']]\n",
        "mioo"
      ],
      "execution_count": null,
      "outputs": []
    },
    {
      "cell_type": "code",
      "metadata": {
        "id": "um9_jWuWkNKk"
      },
      "source": [
        "mioo.fillna(mioo.mean())"
      ],
      "execution_count": null,
      "outputs": []
    },
    {
      "cell_type": "code",
      "metadata": {
        "id": "pPs0VDnikkaW"
      },
      "source": [
        "mioo = earthquake_type[['dmin']]\n",
        "mioo"
      ],
      "execution_count": null,
      "outputs": []
    },
    {
      "cell_type": "code",
      "metadata": {
        "id": "pKa3zi1kkkdS"
      },
      "source": [
        "mioo.fillna(mioo.mean())"
      ],
      "execution_count": null,
      "outputs": []
    },
    {
      "cell_type": "code",
      "metadata": {
        "id": "a1dO6st_kkwj"
      },
      "source": [
        ""
      ],
      "execution_count": null,
      "outputs": []
    },
    {
      "cell_type": "code",
      "metadata": {
        "id": "K4s7nL8hkk2n"
      },
      "source": [
        ""
      ],
      "execution_count": null,
      "outputs": []
    },
    {
      "cell_type": "code",
      "metadata": {
        "id": "zLUvfrFCkk0u"
      },
      "source": [
        ""
      ],
      "execution_count": null,
      "outputs": []
    },
    {
      "cell_type": "code",
      "metadata": {
        "id": "HGN39wKDkkg_"
      },
      "source": [
        ""
      ],
      "execution_count": null,
      "outputs": []
    },
    {
      "cell_type": "code",
      "metadata": {
        "id": "18AP_Wv8kkWp"
      },
      "source": [
        ""
      ],
      "execution_count": null,
      "outputs": []
    }
  ]
}