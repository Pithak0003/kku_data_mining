{
  "nbformat": 4,
  "nbformat_minor": 0,
  "metadata": {
    "colab": {
      "name": "Untitled8.ipynb",
      "private_outputs": true,
      "provenance": [],
      "authorship_tag": "ABX9TyMq7C3+CzpLWLJHwWs2Unxg",
      "include_colab_link": true
    },
    "kernelspec": {
      "name": "python3",
      "display_name": "Python 3"
    }
  },
  "cells": [
    {
      "cell_type": "markdown",
      "metadata": {
        "id": "view-in-github",
        "colab_type": "text"
      },
      "source": [
        "<a href=\"https://colab.research.google.com/github/Pithak0003/kku_data_mining/blob/master/Final%20project%20.ipynb\" target=\"_parent\"><img src=\"https://colab.research.google.com/assets/colab-badge.svg\" alt=\"Open In Colab\"/></a>"
      ]
    },
    {
      "cell_type": "markdown",
      "metadata": {
        "id": "DdmWyHZigOeG"
      },
      "source": [
        ""
      ]
    },
    {
      "cell_type": "markdown",
      "metadata": {
        "id": "OdBGzy10gPPw"
      },
      "source": [
        "## นำเข้าสิ่งที่ต้องใช้"
      ]
    },
    {
      "cell_type": "code",
      "metadata": {
        "id": "kBGsIi3b9cg8"
      },
      "source": [
        "from sklearn import tree\n",
        "from sklearn.neighbors import KNeighborsClassifier\n",
        "\n",
        "from sklearn.model_selection import train_test_split\n",
        "import pandas as pd"
      ],
      "execution_count": null,
      "outputs": []
    },
    {
      "cell_type": "code",
      "metadata": {
        "id": "CCdTTCKQ9fPF"
      },
      "source": [
        "from google.colab import drive\n",
        "drive.mount('/content/drive')"
      ],
      "execution_count": null,
      "outputs": []
    },
    {
      "cell_type": "code",
      "metadata": {
        "id": "i0K8jFNZ9irB"
      },
      "source": [
        "path = '/content/drive/My Drive/Project_MN'"
      ],
      "execution_count": null,
      "outputs": []
    },
    {
      "cell_type": "code",
      "metadata": {
        "id": "QWP6OGnc9ioM"
      },
      "source": [
        "import os"
      ],
      "execution_count": null,
      "outputs": []
    },
    {
      "cell_type": "code",
      "metadata": {
        "id": "5uFZK5TF-FW_"
      },
      "source": [
        "Old_customers = os.path.join(path,'Train.csv')"
      ],
      "execution_count": null,
      "outputs": []
    },
    {
      "cell_type": "code",
      "metadata": {
        "id": "YIAvT5Hu9ily"
      },
      "source": [
        "New_customers = os.path.join(path,'Test.csv')"
      ],
      "execution_count": null,
      "outputs": []
    },
    {
      "cell_type": "code",
      "metadata": {
        "id": "V77r2BSJAFgb"
      },
      "source": [
        "Old_customers_df = pd.read_csv(Old_customers)"
      ],
      "execution_count": null,
      "outputs": []
    },
    {
      "cell_type": "code",
      "metadata": {
        "id": "aAu_0sR5AFZe"
      },
      "source": [
        "New_customers_df = pd.read_csv(New_customers)"
      ],
      "execution_count": null,
      "outputs": []
    },
    {
      "cell_type": "code",
      "metadata": {
        "id": "d70GWRL39ijX"
      },
      "source": [
        "Old_customers_df.head(3)"
      ],
      "execution_count": null,
      "outputs": []
    },
    {
      "cell_type": "code",
      "metadata": {
        "id": "C6lC-r1F9igw"
      },
      "source": [
        "New_customers_df.head(3)"
      ],
      "execution_count": null,
      "outputs": []
    },
    {
      "cell_type": "markdown",
      "metadata": {
        "id": "Hv4EkEOPgZUw"
      },
      "source": [
        ""
      ]
    },
    {
      "cell_type": "markdown",
      "metadata": {
        "id": "ihI-1LtnglOs"
      },
      "source": [
        "## การรวมตาราง เเละปรับปรุงข้อมูล"
      ]
    },
    {
      "cell_type": "code",
      "metadata": {
        "id": "qzTSnb-S9ieZ"
      },
      "source": [
        "merged_table = Old_customers_df.merge(New_customers_df,how='left',left_on='Segmentation',right_on='Segmentation')\n",
        "merged_table.head(4)"
      ],
      "execution_count": null,
      "outputs": []
    },
    {
      "cell_type": "markdown",
      "metadata": {
        "id": "zwBH6HRdj9WX"
      },
      "source": [
        "## การเเก้ไข ตัวหนังสือให้เป็นตัวเลข"
      ]
    },
    {
      "cell_type": "code",
      "metadata": {
        "id": "PpiAC5F5_6Ub"
      },
      "source": [
        "Old_customers_df.Gender.unique()"
      ],
      "execution_count": null,
      "outputs": []
    },
    {
      "cell_type": "code",
      "metadata": {
        "id": "G_Whn-X7Ew1Z"
      },
      "source": [
        "Old_customers_df['Gender'] = Old_customers_df.Gender.replace(['Male', 'Female'],[1,2])"
      ],
      "execution_count": null,
      "outputs": []
    },
    {
      "cell_type": "code",
      "metadata": {
        "id": "46C-STEYCmzq"
      },
      "source": [
        "Old_customers_df.Ever_Married.unique()"
      ],
      "execution_count": null,
      "outputs": []
    },
    {
      "cell_type": "code",
      "metadata": {
        "id": "_3UsYHWNFRFN"
      },
      "source": [
        "Old_customers_df['Ever_Married'] = Old_customers_df.Ever_Married.replace(['No', 'Yes' ],[0,1])"
      ],
      "execution_count": null,
      "outputs": []
    },
    {
      "cell_type": "code",
      "metadata": {
        "id": "aXGfCyChD_b1"
      },
      "source": [
        "Old_customers_df.Age.unique()"
      ],
      "execution_count": null,
      "outputs": []
    },
    {
      "cell_type": "code",
      "metadata": {
        "id": "qsUhPFlhD_Yc"
      },
      "source": [
        "Old_customers_df.Graduated.unique()"
      ],
      "execution_count": null,
      "outputs": []
    },
    {
      "cell_type": "code",
      "metadata": {
        "id": "K-Dj0AKnFmbV"
      },
      "source": [
        "Old_customers_df['Graduated'] = Old_customers_df.Graduated.replace(['No', 'Yes'],[0,1])"
      ],
      "execution_count": null,
      "outputs": []
    },
    {
      "cell_type": "code",
      "metadata": {
        "id": "ywC23HtTD_V0"
      },
      "source": [
        "Old_customers_df.Profession.unique()"
      ],
      "execution_count": null,
      "outputs": []
    },
    {
      "cell_type": "code",
      "metadata": {
        "id": "c9PP9KWlF1Lj"
      },
      "source": [
        "Old_customers_df['Profession'] = Old_customers_df.Profession.replace(['Healthcare', 'Engineer', 'Lawyer', 'Entertainment', 'Artist',\n",
        "       'Executive', 'Doctor', 'Homemaker', 'Marketing'],[1,2,3,4,5,6,7,8,9])"
      ],
      "execution_count": null,
      "outputs": []
    },
    {
      "cell_type": "code",
      "metadata": {
        "id": "5sKWJ4IrD_Tf"
      },
      "source": [
        "Old_customers_df.Work_Experience.unique()"
      ],
      "execution_count": null,
      "outputs": []
    },
    {
      "cell_type": "code",
      "metadata": {
        "id": "0aFqoP9LD_RK"
      },
      "source": [
        "Old_customers_df.Spending_Score.unique()"
      ],
      "execution_count": null,
      "outputs": []
    },
    {
      "cell_type": "code",
      "metadata": {
        "id": "t0WLVA_3G-z7"
      },
      "source": [
        "Old_customers_df['Spending_Score'] = Old_customers_df.Spending_Score.replace(['Low', 'Average', 'High'],[1,2,3])"
      ],
      "execution_count": null,
      "outputs": []
    },
    {
      "cell_type": "code",
      "metadata": {
        "id": "Zi9DFI2lEfvK"
      },
      "source": [
        "Old_customers_df.Family_Size.unique()"
      ],
      "execution_count": null,
      "outputs": []
    },
    {
      "cell_type": "code",
      "metadata": {
        "id": "oyJgQa3BH6-r"
      },
      "source": [
        "Old_customers_df.head(3)"
      ],
      "execution_count": null,
      "outputs": []
    },
    {
      "cell_type": "code",
      "metadata": {
        "id": "APeF5uqiJh97"
      },
      "source": [
        "New_customers_df.Gender.unique()"
      ],
      "execution_count": null,
      "outputs": []
    },
    {
      "cell_type": "code",
      "metadata": {
        "id": "vIk-C7cIJh1A"
      },
      "source": [
        "New_customers_df['Gender'] = New_customers_df.Gender.replace(['Male', 'Female'],[1,2])"
      ],
      "execution_count": null,
      "outputs": []
    },
    {
      "cell_type": "code",
      "metadata": {
        "id": "TKTj2Y4ZICes"
      },
      "source": [
        "New_customers_df.Ever_Married.unique()"
      ],
      "execution_count": null,
      "outputs": []
    },
    {
      "cell_type": "code",
      "metadata": {
        "id": "HscNKcCXJJQV"
      },
      "source": [
        "New_customers_df['Ever_Married'] = New_customers_df.Ever_Married.replace(['No', 'Yes'],[0,1])"
      ],
      "execution_count": null,
      "outputs": []
    },
    {
      "cell_type": "code",
      "metadata": {
        "id": "4udm9mDUJJNt"
      },
      "source": [
        "New_customers_df.Age.unique()"
      ],
      "execution_count": null,
      "outputs": []
    },
    {
      "cell_type": "code",
      "metadata": {
        "id": "cxdrSD82JJK8"
      },
      "source": [
        "New_customers_df.Graduated.unique()"
      ],
      "execution_count": null,
      "outputs": []
    },
    {
      "cell_type": "code",
      "metadata": {
        "id": "hW1SoYp5JJIh"
      },
      "source": [
        "New_customers_df['Graduated'] = New_customers_df.Graduated.replace(['No', 'Yes'],[0,1])"
      ],
      "execution_count": null,
      "outputs": []
    },
    {
      "cell_type": "code",
      "metadata": {
        "id": "AbAtDt0SJJGa"
      },
      "source": [
        "New_customers_df.Profession.unique()"
      ],
      "execution_count": null,
      "outputs": []
    },
    {
      "cell_type": "code",
      "metadata": {
        "id": "Equs27fhJJA9"
      },
      "source": [
        "New_customers_df.Work_Experience.unique()"
      ],
      "execution_count": null,
      "outputs": []
    },
    {
      "cell_type": "code",
      "metadata": {
        "id": "lc7PvpZmJI-l"
      },
      "source": [
        "New_customers_df.Spending_Score.unique()"
      ],
      "execution_count": null,
      "outputs": []
    },
    {
      "cell_type": "code",
      "metadata": {
        "id": "Em-vU19cJXCz"
      },
      "source": [
        "New_customers_df['Spending_Score'] = New_customers_df.Spending_Score.replace(['Low', 'Average', 'High'],[1,2,3])"
      ],
      "execution_count": null,
      "outputs": []
    },
    {
      "cell_type": "code",
      "metadata": {
        "id": "zys_8_GMJXAp"
      },
      "source": [
        "New_customers_df.Family_Size.unique()"
      ],
      "execution_count": null,
      "outputs": []
    },
    {
      "cell_type": "code",
      "metadata": {
        "id": "lOkFBVUtJe5l"
      },
      "source": [
        "New_customers_df.head(3)"
      ],
      "execution_count": null,
      "outputs": []
    },
    {
      "cell_type": "markdown",
      "metadata": {
        "id": "q1YVTxu-CDlF"
      },
      "source": [
        "ขั้นตอนด้านบนเป็นการกำหนดข้อมูลจากตัวหนังสือ ให้กลายเป็นตัวเลข เพื่อให้การนำข้อมูลไปวิเคราะห์เป็นไปอย่างถูกต้อง"
      ]
    },
    {
      "cell_type": "markdown",
      "metadata": {
        "id": "LvbNRbvjg1WS"
      },
      "source": [
        "## การตรวจสอบ Missing Values"
      ]
    },
    {
      "cell_type": "code",
      "metadata": {
        "id": "Gc44wpjohRwW"
      },
      "source": [
        "Old_customers_df.isnull().any()"
      ],
      "execution_count": null,
      "outputs": []
    },
    {
      "cell_type": "code",
      "metadata": {
        "id": "Z92M2b7xhOqu"
      },
      "source": [
        "New_customers_df.isnull().any()"
      ],
      "execution_count": null,
      "outputs": []
    },
    {
      "cell_type": "markdown",
      "metadata": {
        "id": "O3gUg5drDIVN"
      },
      "source": [
        "ขั้นตอนด้านบนเป็นการ ตรวจสอบหาค่า Missing เพื่อตรวจสอบข้อมูลที่ไม่สมบูรณ์"
      ]
    },
    {
      "cell_type": "markdown",
      "metadata": {
        "id": "4vCi1ld2fwN6"
      },
      "source": [
        "## เริ่มตรวจสอบความเหมาะสม"
      ]
    },
    {
      "cell_type": "code",
      "metadata": {
        "id": "fgCXdEM0J_Yc"
      },
      "source": [
        "x1 = Old_customers_df[['Gender','Ever_Married','Age','Graduated','Profession','Work_Experience','Spending_Score','Family_Size']]\n",
        "y1= Old_customers_df['Segmentation']"
      ],
      "execution_count": null,
      "outputs": []
    },
    {
      "cell_type": "markdown",
      "metadata": {
        "id": "v-VrLM8SD1pT"
      },
      "source": [
        "ขั้นตอนการกำหนดคอลัมน์ที่จะใช้เป็น feature เเละ labels ซึ่ง x1 คือ feature เเละ y1 คือ labels ของตารางที่ 1 "
      ]
    },
    {
      "cell_type": "code",
      "metadata": {
        "id": "hjYWYY9yRYSj"
      },
      "source": [
        "x2 = New_customers_df[['Gender','Ever_Married','Age','Graduated','Profession','Work_Experience','Spending_Score','Family_Size']]\n",
        "y2 = New_customers_df['Segmentation']"
      ],
      "execution_count": null,
      "outputs": []
    },
    {
      "cell_type": "markdown",
      "metadata": {
        "id": "sZREWa70E2lo"
      },
      "source": [
        "ขั้นตอนการกำหนดคอลัมน์ที่จะใช้เป็น feature เเละ labels ซึ่ง x2 คือ feature เเละ y2 คือ labels ของตารางที่ 2 "
      ]
    },
    {
      "cell_type": "code",
      "metadata": {
        "id": "AMrylSrMJ_Qh"
      },
      "source": [
        "Treemodel = tree.DecisionTreeClassifier()"
      ],
      "execution_count": null,
      "outputs": []
    },
    {
      "cell_type": "markdown",
      "metadata": {
        "id": "o_tZcmJTFD--"
      },
      "source": [
        "การสร้าง Model DecisionTree เพื่อทำจำเเนกกลุ่ม"
      ]
    },
    {
      "cell_type": "code",
      "metadata": {
        "id": "PzqTSKAmJ_Gp"
      },
      "source": [
        "Treemodel = Treemodel.fit(train_x1 , train_y1)"
      ],
      "execution_count": null,
      "outputs": []
    },
    {
      "cell_type": "markdown",
      "metadata": {
        "id": "wcQs5Bd0FLe6"
      },
      "source": [
        "การสร้าง Model DecisionTree เพื่อทำจำเเนกกลุ่ม"
      ]
    },
    {
      "cell_type": "code",
      "metadata": {
        "id": "iIg5PGYPQzdV"
      },
      "source": [
        "TreeScore = Treemodel.score(test_x2 , test_y2)"
      ],
      "execution_count": null,
      "outputs": []
    },
    {
      "cell_type": "markdown",
      "metadata": {
        "id": "6GBPO9mtFPnG"
      },
      "source": [
        "การสร้าง Model DecisionTree เพื่อทำจำเเนกกลุ่ม"
      ]
    },
    {
      "cell_type": "code",
      "metadata": {
        "id": "FI3LlnWtQzbB"
      },
      "source": [
        "print(TreeScore)"
      ],
      "execution_count": null,
      "outputs": []
    },
    {
      "cell_type": "markdown",
      "metadata": {
        "id": "__1ggaFXFQ_D"
      },
      "source": [
        "การตรวจสอบคะเเนนความถูกต้องของ Model"
      ]
    },
    {
      "cell_type": "markdown",
      "metadata": {
        "id": "xnE49nFQTemG"
      },
      "source": [
        "## K-NN"
      ]
    },
    {
      "cell_type": "code",
      "metadata": {
        "id": "XaGUj0Z4Tc8V"
      },
      "source": [
        "KNNmodel = KNeighborsClassifier(n_neighbors=10)"
      ],
      "execution_count": null,
      "outputs": []
    },
    {
      "cell_type": "markdown",
      "metadata": {
        "id": "bKAGm3bTFoW1"
      },
      "source": [
        "การสร้าง Model K-NN เพื่อทำจำเเนกกลุ่ม"
      ]
    },
    {
      "cell_type": "code",
      "metadata": {
        "id": "Qw4DQ7JTUJ_k"
      },
      "source": [
        "KNNmodel = KNNmodel.fit(train_x1 , train_y1)"
      ],
      "execution_count": null,
      "outputs": []
    },
    {
      "cell_type": "markdown",
      "metadata": {
        "id": "Mb-B-K46FyUm"
      },
      "source": [
        "การสร้าง Model K-NN เพื่อทำจำเเนกกลุ่ม"
      ]
    },
    {
      "cell_type": "code",
      "metadata": {
        "id": "g8xxsXNEUeUa"
      },
      "source": [
        " KnnScore = KNNmodel.score(test_x2 , test_y2)"
      ],
      "execution_count": null,
      "outputs": []
    },
    {
      "cell_type": "markdown",
      "metadata": {
        "id": "h1Q9H8cLFzKF"
      },
      "source": [
        "การสร้าง Model K-NN เพื่อทำจำเเนกกลุ่ม"
      ]
    },
    {
      "cell_type": "code",
      "metadata": {
        "id": "y4CjB65xUlN3"
      },
      "source": [
        "print(KnnScore)"
      ],
      "execution_count": null,
      "outputs": []
    },
    {
      "cell_type": "markdown",
      "metadata": {
        "id": "P3OqqyEHFYWA"
      },
      "source": [
        "การตรวจสอบคะเเนนความถูกต้องของ Model"
      ]
    },
    {
      "cell_type": "markdown",
      "metadata": {
        "id": "ldO9bF0of5cE"
      },
      "source": [
        "K-NN เหมาะสมที่สุด"
      ]
    },
    {
      "cell_type": "markdown",
      "metadata": {
        "id": "tWjXvcBxX62c"
      },
      "source": [
        "## Model ที่ใช้ในการจำเเนกกลุ่มลูกค้าของบริษัทรถยนต์ \n"
      ]
    },
    {
      "cell_type": "code",
      "metadata": {
        "id": "CCx_WcBjX-6l"
      },
      "source": [
        "x = Old_customers_df[['Gender','Ever_Married','Age','Graduated','Profession','Work_Experience','Spending_Score','Family_Size']]\n",
        "y = Old_customers_df['Segmentation']"
      ],
      "execution_count": null,
      "outputs": []
    },
    {
      "cell_type": "markdown",
      "metadata": {
        "id": "b4a1F7fFGTk7"
      },
      "source": [
        "ขั้นตอนการกำหนดคอลัมน์ที่จะใช้เป็น feature เเละ labels ซึ่ง x คือ feature เเละ y คือ labels ของ Model"
      ]
    },
    {
      "cell_type": "code",
      "metadata": {
        "id": "hnxmL8MXZDOX"
      },
      "source": [
        "KNNmodel = KNeighborsClassifier(n_neighbors=10)"
      ],
      "execution_count": null,
      "outputs": []
    },
    {
      "cell_type": "markdown",
      "metadata": {
        "id": "-xirU69yGm-i"
      },
      "source": [
        "การสร้าง Model K-NN เพื่อทำจำเเนกกลุ่ม"
      ]
    },
    {
      "cell_type": "code",
      "metadata": {
        "id": "rAHZW6fYZDK4"
      },
      "source": [
        "KNNmodel = KNNmodel.fit(train_x , train_y)"
      ],
      "execution_count": null,
      "outputs": []
    },
    {
      "cell_type": "markdown",
      "metadata": {
        "id": "iyN2S3o0Gqrv"
      },
      "source": [
        "การกำหนดค่าที่ใช้ Train"
      ]
    },
    {
      "cell_type": "code",
      "metadata": {
        "id": "G8qRJ-EgZDI3"
      },
      "source": [
        "KnnScore = KNNmodel.score(test_x , test_y)"
      ],
      "execution_count": null,
      "outputs": []
    },
    {
      "cell_type": "markdown",
      "metadata": {
        "id": "UQHsHB2yGzA7"
      },
      "source": [
        "การกำหนดค่าที่ใช้ Test"
      ]
    },
    {
      "cell_type": "code",
      "metadata": {
        "id": "OCg6cnYuZDF_"
      },
      "source": [
        "print(KnnScore)"
      ],
      "execution_count": null,
      "outputs": []
    },
    {
      "cell_type": "markdown",
      "metadata": {
        "id": "Wzv7m1DZFacb"
      },
      "source": [
        "การตรวจสอบคะเเนนความถูกต้องของ Model"
      ]
    },
    {
      "cell_type": "markdown",
      "metadata": {
        "id": "6q9uzeEUjIg7"
      },
      "source": [
        "## ทดลองสุ่มข้อมูลลูกค้ามาจัดกลุ่ม"
      ]
    },
    {
      "cell_type": "code",
      "metadata": {
        "id": "0eKNDU73ZDA0"
      },
      "source": [
        "another = [[1,\t0,\t22,\t0\t,1,\t1\t,1\t,4],[2,\t1,\t38,\t1\t,2,\t0\t,2,\t3\t],[2,\t1\t,67\t,1,\t2\t,1,\t1\t,1\t]]"
      ],
      "execution_count": null,
      "outputs": []
    },
    {
      "cell_type": "markdown",
      "metadata": {
        "id": "AfNklf-mG4-z"
      },
      "source": [
        "การกรอกข้อมูลลูกค้า เพื่อจำเเนกกลุ่ม"
      ]
    },
    {
      "cell_type": "code",
      "metadata": {
        "id": "D2S_guDIa8Yn"
      },
      "source": [
        "print(KNNmodel.predict(another))\n"
      ],
      "execution_count": null,
      "outputs": []
    },
    {
      "cell_type": "markdown",
      "metadata": {
        "id": "U1CvKkSqG_dr"
      },
      "source": [
        "การเเสดงข้อมูลว่า ลูกค่าอยูกลุ่มใหน"
      ]
    }
  ]
}