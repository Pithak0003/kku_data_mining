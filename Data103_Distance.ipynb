{
  "nbformat": 4,
  "nbformat_minor": 0,
  "metadata": {
    "colab": {
      "name": "Data103 Distance.ipynb",
      "provenance": [],
      "private_outputs": true,
      "authorship_tag": "ABX9TyOk7g3hJ2VZbYlZLTYZB90+",
      "include_colab_link": true
    },
    "kernelspec": {
      "name": "python3",
      "display_name": "Python 3"
    }
  },
  "cells": [
    {
      "cell_type": "markdown",
      "metadata": {
        "id": "view-in-github",
        "colab_type": "text"
      },
      "source": [
        "<a href=\"https://colab.research.google.com/github/Pithak0003/kku_data_mining/blob/master/Data103_Distance.ipynb\" target=\"_parent\"><img src=\"https://colab.research.google.com/assets/colab-badge.svg\" alt=\"Open In Colab\"/></a>"
      ]
    },
    {
      "cell_type": "code",
      "metadata": {
        "id": "2c38AJmasVQf",
        "colab_type": "code",
        "colab": {}
      },
      "source": [
        "import numpy as np"
      ],
      "execution_count": null,
      "outputs": []
    },
    {
      "cell_type": "markdown",
      "metadata": {
        "id": "JW-VEjijsge5",
        "colab_type": "text"
      },
      "source": [
        "#numpy array"
      ]
    },
    {
      "cell_type": "code",
      "metadata": {
        "id": "j6bZz7SLse5o",
        "colab_type": "code",
        "colab": {}
      },
      "source": [
        "np1= np.array([[1,3,5],[2,4,6]])\n",
        "np1"
      ],
      "execution_count": null,
      "outputs": []
    },
    {
      "cell_type": "code",
      "metadata": {
        "id": "KfFzDzDJs0na",
        "colab_type": "code",
        "colab": {}
      },
      "source": [
        "np2 = np.array([[1,2],[3,5],[2,0],[4,5]])\n",
        "np2"
      ],
      "execution_count": null,
      "outputs": []
    },
    {
      "cell_type": "code",
      "metadata": {
        "id": "PigMjHsmtbj1",
        "colab_type": "code",
        "colab": {}
      },
      "source": [
        "np2.T"
      ],
      "execution_count": null,
      "outputs": []
    },
    {
      "cell_type": "code",
      "metadata": {
        "id": "jXH5BDn7uZbl",
        "colab_type": "code",
        "colab": {}
      },
      "source": [
        "np2[0,:]"
      ],
      "execution_count": null,
      "outputs": []
    },
    {
      "cell_type": "code",
      "metadata": {
        "id": "3xqj9WdSugHF",
        "colab_type": "code",
        "colab": {}
      },
      "source": [
        ""
      ],
      "execution_count": null,
      "outputs": []
    },
    {
      "cell_type": "markdown",
      "metadata": {
        "id": "b3UswTJJvXk-",
        "colab_type": "text"
      },
      "source": [
        "##HW 6 \n",
        "สร้าง Distance metrix ( Euclidean ) ของ np2\n",
        "โดยสร้าง function สำหรับคำนวณ Euclidean Distance"
      ]
    },
    {
      "cell_type": "code",
      "metadata": {
        "id": "5RxTmt8DwUex",
        "colab_type": "code",
        "colab": {}
      },
      "source": [
        ""
      ],
      "execution_count": null,
      "outputs": []
    },
    {
      "cell_type": "code",
      "metadata": {
        "id": "gtT9vZFmwXdB",
        "colab_type": "code",
        "colab": {}
      },
      "source": [
        ""
      ],
      "execution_count": null,
      "outputs": []
    },
    {
      "cell_type": "code",
      "metadata": {
        "id": "zb0pTDlwwW-Z",
        "colab_type": "code",
        "colab": {}
      },
      "source": [
        "def Manhattan(data1,data2):\n",
        "    distX = abs(data1[0]-data2[0])\n",
        "    distY = abs(data1[1]-data2[1])\n",
        "    return distX+distY"
      ],
      "execution_count": null,
      "outputs": []
    },
    {
      "cell_type": "code",
      "metadata": {
        "id": "sOxMzB5Kwul_",
        "colab_type": "code",
        "colab": {}
      },
      "source": [
        "Manhattan(np2[0,:],np2[1,:])"
      ],
      "execution_count": null,
      "outputs": []
    },
    {
      "cell_type": "code",
      "metadata": {
        "id": "hWKPvaUOw6Pk",
        "colab_type": "code",
        "colab": {}
      },
      "source": [
        "5*np.ones((4,4))"
      ],
      "execution_count": null,
      "outputs": []
    },
    {
      "cell_type": "code",
      "metadata": {
        "id": "tymHlQ5Zyy2K",
        "colab_type": "code",
        "colab": {}
      },
      "source": [
        "dist_mat = np.zeros((4,4))\n",
        "dist_mat"
      ],
      "execution_count": null,
      "outputs": []
    },
    {
      "cell_type": "code",
      "metadata": {
        "id": "tSJ7qsmSzNf1",
        "colab_type": "code",
        "colab": {}
      },
      "source": [
        "for i in range(4):\n",
        "    for j in range(4):\n",
        "        dist_mat[i,j] = Manhattan(np2[i,:],np2[j,:])\n",
        "\n",
        "dist_mat"
      ],
      "execution_count": null,
      "outputs": []
    },
    {
      "cell_type": "code",
      "metadata": {
        "id": "0IuZnX5rzxld",
        "colab_type": "code",
        "colab": {}
      },
      "source": [
        ""
      ],
      "execution_count": null,
      "outputs": []
    }
  ]
}