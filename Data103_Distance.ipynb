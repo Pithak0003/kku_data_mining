{
  "nbformat": 4,
  "nbformat_minor": 0,
  "metadata": {
    "colab": {
      "name": "Data103 Distance.ipynb",
      "provenance": [],
      "private_outputs": true,
      "authorship_tag": "ABX9TyPX2Tq7xDT/xZ/lFIcgKcN0",
      "include_colab_link": true
    },
    "kernelspec": {
      "name": "python3",
      "display_name": "Python 3"
    }
  },
  "cells": [
    {
      "cell_type": "markdown",
      "metadata": {
        "id": "view-in-github",
        "colab_type": "text"
      },
      "source": [
        "<a href=\"https://colab.research.google.com/github/Pithak0003/kku_data_mining/blob/master/Data103_Distance.ipynb\" target=\"_parent\"><img src=\"https://colab.research.google.com/assets/colab-badge.svg\" alt=\"Open In Colab\"/></a>"
      ]
    },
    {
      "cell_type": "code",
      "metadata": {
        "id": "2c38AJmasVQf",
        "colab_type": "code",
        "colab": {}
      },
      "source": [
        "import numpy as np"
      ],
      "execution_count": null,
      "outputs": []
    },
    {
      "cell_type": "markdown",
      "metadata": {
        "id": "JW-VEjijsge5",
        "colab_type": "text"
      },
      "source": [
        "#numpy array"
      ]
    },
    {
      "cell_type": "code",
      "metadata": {
        "id": "j6bZz7SLse5o",
        "colab_type": "code",
        "colab": {}
      },
      "source": [
        "np1= np.array([[1,3,5],[2,4,6]])\n",
        "np1"
      ],
      "execution_count": null,
      "outputs": []
    },
    {
      "cell_type": "code",
      "metadata": {
        "id": "KfFzDzDJs0na",
        "colab_type": "code",
        "colab": {}
      },
      "source": [
        "np2 = np.array([[1,2],[3,5],[2,0],[4,5]])\n",
        "np2"
      ],
      "execution_count": null,
      "outputs": []
    },
    {
      "cell_type": "code",
      "metadata": {
        "id": "PigMjHsmtbj1",
        "colab_type": "code",
        "colab": {}
      },
      "source": [
        "np2.T"
      ],
      "execution_count": null,
      "outputs": []
    },
    {
      "cell_type": "code",
      "metadata": {
        "id": "jXH5BDn7uZbl",
        "colab_type": "code",
        "colab": {}
      },
      "source": [
        "np2[0,:]"
      ],
      "execution_count": null,
      "outputs": []
    },
    {
      "cell_type": "code",
      "metadata": {
        "id": "3xqj9WdSugHF",
        "colab_type": "code",
        "colab": {}
      },
      "source": [
        ""
      ],
      "execution_count": null,
      "outputs": []
    },
    {
      "cell_type": "markdown",
      "metadata": {
        "id": "b3UswTJJvXk-",
        "colab_type": "text"
      },
      "source": [
        "##HW 6 \n",
        "สร้าง Distance metrix ( Euclidean ) ของ np2\n",
        "โดยสร้าง function สำหรับคำนวณ Euclidean Distance"
      ]
    },
    {
      "cell_type": "code",
      "metadata": {
        "id": "5RxTmt8DwUex",
        "colab_type": "code",
        "colab": {}
      },
      "source": [
        ""
      ],
      "execution_count": null,
      "outputs": []
    },
    {
      "cell_type": "code",
      "metadata": {
        "id": "gtT9vZFmwXdB",
        "colab_type": "code",
        "colab": {}
      },
      "source": [
        ""
      ],
      "execution_count": null,
      "outputs": []
    },
    {
      "cell_type": "code",
      "metadata": {
        "id": "zb0pTDlwwW-Z",
        "colab_type": "code",
        "colab": {}
      },
      "source": [
        "def Manhattan(data1,data2):\n",
        "    distX = abs(data1[0]-data2[0])\n",
        "    distY = abs(data1[1]-data2[1])\n",
        "    return distX+distY"
      ],
      "execution_count": null,
      "outputs": []
    },
    {
      "cell_type": "code",
      "metadata": {
        "id": "sOxMzB5Kwul_",
        "colab_type": "code",
        "colab": {}
      },
      "source": [
        "Manhattan(np2[0,:],np2[1,:])"
      ],
      "execution_count": null,
      "outputs": []
    },
    {
      "cell_type": "code",
      "metadata": {
        "id": "hWKPvaUOw6Pk",
        "colab_type": "code",
        "colab": {}
      },
      "source": [
        "5*np.ones((4,4))"
      ],
      "execution_count": null,
      "outputs": []
    },
    {
      "cell_type": "code",
      "metadata": {
        "id": "tymHlQ5Zyy2K",
        "colab_type": "code",
        "colab": {}
      },
      "source": [
        "dist_mat = np.zeros((4,4))\n",
        "dist_mat"
      ],
      "execution_count": null,
      "outputs": []
    },
    {
      "cell_type": "code",
      "metadata": {
        "id": "tSJ7qsmSzNf1",
        "colab_type": "code",
        "colab": {}
      },
      "source": [
        "for i in range(4):\n",
        "    for j in range(4):\n",
        "        dist_mat[i,j] = Manhattan(np2[i,:],np2[j,:])\n",
        "\n",
        "dist_mat"
      ],
      "execution_count": null,
      "outputs": []
    },
    {
      "cell_type": "code",
      "metadata": {
        "id": "0IuZnX5rzxld",
        "colab_type": "code",
        "colab": {}
      },
      "source": [
        ""
      ],
      "execution_count": null,
      "outputs": []
    },
    {
      "cell_type": "markdown",
      "metadata": {
        "id": "9B3AH5lbtvRY",
        "colab_type": "text"
      },
      "source": [
        "##Distance of nominal or categorical features"
      ]
    },
    {
      "cell_type": "markdown",
      "metadata": {
        "id": "3HJnE455uAio",
        "colab_type": "text"
      },
      "source": [
        "##(extra) Python data stucture (Dictionary)"
      ]
    },
    {
      "cell_type": "code",
      "metadata": {
        "id": "I1ypoREat9D5",
        "colab_type": "code",
        "colab": {}
      },
      "source": [
        "d_a = {'a' : 1,2:3,3:5,'cat':6}"
      ],
      "execution_count": null,
      "outputs": []
    },
    {
      "cell_type": "code",
      "metadata": {
        "id": "rqH-2eCuuZM-",
        "colab_type": "code",
        "colab": {}
      },
      "source": [
        "d_a"
      ],
      "execution_count": null,
      "outputs": []
    },
    {
      "cell_type": "code",
      "metadata": {
        "id": "YdDg4qQ2uaFX",
        "colab_type": "code",
        "colab": {}
      },
      "source": [
        "d_a['cat']"
      ],
      "execution_count": null,
      "outputs": []
    },
    {
      "cell_type": "code",
      "metadata": {
        "id": "9NHEiN2VugqD",
        "colab_type": "code",
        "colab": {}
      },
      "source": [
        "d_a ['dog'] = [1,2,3,4,5]"
      ],
      "execution_count": null,
      "outputs": []
    },
    {
      "cell_type": "code",
      "metadata": {
        "id": "4z03X-aOu8m2",
        "colab_type": "code",
        "colab": {}
      },
      "source": [
        "d_a"
      ],
      "execution_count": null,
      "outputs": []
    },
    {
      "cell_type": "code",
      "metadata": {
        "id": "CIFESxdMu97V",
        "colab_type": "code",
        "colab": {}
      },
      "source": [
        "d_a['dog']"
      ],
      "execution_count": null,
      "outputs": []
    },
    {
      "cell_type": "code",
      "metadata": {
        "id": "mzMrFI7qvCOE",
        "colab_type": "code",
        "colab": {}
      },
      "source": [
        "import pandas as pd"
      ],
      "execution_count": null,
      "outputs": []
    },
    {
      "cell_type": "code",
      "metadata": {
        "id": "pt_Y-46Lwv4y",
        "colab_type": "code",
        "colab": {}
      },
      "source": [
        "data_dict ={'color':['red','red','green'],'status':['single','married','single']}\n",
        "data_dict"
      ],
      "execution_count": null,
      "outputs": []
    },
    {
      "cell_type": "code",
      "metadata": {
        "id": "pLoE4MU6xb-9",
        "colab_type": "code",
        "colab": {}
      },
      "source": [
        "data_pd = pd.DataFrame.from_dict(data_dict)\n",
        "data_pd"
      ],
      "execution_count": null,
      "outputs": []
    },
    {
      "cell_type": "code",
      "metadata": {
        "id": "6X5HCwFQyd0v",
        "colab_type": "code",
        "colab": {}
      },
      "source": [
        ""
      ],
      "execution_count": null,
      "outputs": []
    },
    {
      "cell_type": "markdown",
      "metadata": {
        "id": "skHgJ9-Jylgg",
        "colab_type": "text"
      },
      "source": [
        "##Categorical feature distance method#1"
      ]
    },
    {
      "cell_type": "code",
      "metadata": {
        "id": "X6N390Y7yvog",
        "colab_type": "code",
        "colab": {}
      },
      "source": [
        "list(data_pd.iloc[1,:])"
      ],
      "execution_count": null,
      "outputs": []
    },
    {
      "cell_type": "markdown",
      "metadata": {
        "id": "8Q5sHuCpzCbB",
        "colab_type": "text"
      },
      "source": [
        "การเรียกค่าเเต่ละเดต้าพอยมา"
      ]
    },
    {
      "cell_type": "code",
      "metadata": {
        "id": "VFJ4EHB_y7Bx",
        "colab_type": "code",
        "colab": {}
      },
      "source": [
        "def meth1_dist(data1,data2):\n",
        "    N = 0\n",
        "    print(f'data1 is {data1} and data2 is {data2} ')\n",
        "    for i in range(len(data1)):\n",
        "        print(f'feature1 of data1 is {data1[i]} , feature1 of data2 is {data2[i]}')\n",
        "        if data1[i] ==data2[i]:\n",
        "            N=N+1\n",
        "            print(f'{data1[i]} is equal {data2[i]} : updated ({N})')\n",
        "        else:\n",
        "             print(f'{data1[i]} is equal {data2[i]}')\n",
        "    return N/len(data1)"
      ],
      "execution_count": null,
      "outputs": []
    },
    {
      "cell_type": "code",
      "metadata": {
        "id": "H2b4Rrzez5M4",
        "colab_type": "code",
        "colab": {}
      },
      "source": [
        "meth1_dist(list(data_pd.iloc[0,:]),list(data_pd.iloc[1,:]))"
      ],
      "execution_count": null,
      "outputs": []
    },
    {
      "cell_type": "markdown",
      "metadata": {
        "id": "daYEBwqA2srM",
        "colab_type": "text"
      },
      "source": [
        "##HW7 calculate distance matrix fo data_pd using meth1_dist()"
      ]
    },
    {
      "cell_type": "code",
      "metadata": {
        "id": "s_dxhu0j2a8_",
        "colab_type": "code",
        "colab": {}
      },
      "source": [
        ""
      ],
      "execution_count": null,
      "outputs": []
    },
    {
      "cell_type": "markdown",
      "metadata": {
        "id": "wrjKymne36du",
        "colab_type": "text"
      },
      "source": [
        "##Categorical feature distance method#2"
      ]
    },
    {
      "cell_type": "code",
      "metadata": {
        "id": "nIrTia7c4KIo",
        "colab_type": "code",
        "colab": {}
      },
      "source": [
        "pd.get_dummies(data_pd)"
      ],
      "execution_count": null,
      "outputs": []
    },
    {
      "cell_type": "code",
      "metadata": {
        "id": "s9SqwXM04Paw",
        "colab_type": "code",
        "colab": {}
      },
      "source": [
        "def binary_sym_dist(data1,data2):\n",
        "  q=0\n",
        "  rs=0\n",
        "  t=0\n",
        "  for i in range(len(data1)):\n",
        "      if data1[i] == data2[i]:\n",
        "          if data1[i] == 1 :\n",
        "              q = q + 1\n",
        "          else:\n",
        "              t = t + 1\n",
        "      if data1[i] != data2[i]:\n",
        "          rs= rs + 1\n",
        "\n",
        "  return (rs)/(q+rs+t)"
      ],
      "execution_count": null,
      "outputs": []
    },
    {
      "cell_type": "markdown",
      "metadata": {
        "id": "SNiWtAj_6GK-",
        "colab_type": "text"
      },
      "source": [
        "เแ็นการคำนวณหา q r s t เเละการวนลูป ยังไง งงๆ"
      ]
    },
    {
      "cell_type": "code",
      "metadata": {
        "id": "cCWJ7qNJ59-P",
        "colab_type": "code",
        "colab": {}
      },
      "source": [
        "binary_sym_dist(list(data_pd.iloc[0,:]),list(data_pd.iloc[1,:]))"
      ],
      "execution_count": null,
      "outputs": []
    },
    {
      "cell_type": "code",
      "metadata": {
        "id": "wVm9zO3e79wF",
        "colab_type": "code",
        "colab": {}
      },
      "source": [
        ""
      ],
      "execution_count": null,
      "outputs": []
    },
    {
      "cell_type": "markdown",
      "metadata": {
        "id": "fGbq31tg9ClH",
        "colab_type": "text"
      },
      "source": [
        "##HW8 calculate distance matrix of data_pd_binary using binary_sym_dist()"
      ]
    },
    {
      "cell_type": "code",
      "metadata": {
        "id": "IuC_m7WW9RgE",
        "colab_type": "code",
        "colab": {}
      },
      "source": [
        ""
      ],
      "execution_count": null,
      "outputs": []
    }
  ]
}